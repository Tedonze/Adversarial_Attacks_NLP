{
 "cells": [
  {
   "cell_type": "code",
   "execution_count": null,
   "id": "1729d522",
   "metadata": {
    "id": "7r2nqX97d13v",
    "outputId": "52bb5b0f-5b39-45c1-e814-2173932e0337",
    "papermill": {
     "duration": 0.015403,
     "end_time": "2023-03-14T10:02:39.748838",
     "exception": false,
     "start_time": "2023-03-14T10:02:39.733435",
     "status": "completed"
    },
    "tags": []
   },
   "outputs": [],
   "source": []
  },
  {
   "cell_type": "code",
   "execution_count": null,
   "id": "fda456a4",
   "metadata": {
    "id": "__utgG4peQI4",
    "papermill": {
     "duration": 0.01384,
     "end_time": "2023-03-14T10:02:39.776749",
     "exception": false,
     "start_time": "2023-03-14T10:02:39.762909",
     "status": "completed"
    },
    "tags": []
   },
   "outputs": [],
   "source": []
  },
  {
   "cell_type": "code",
   "execution_count": 1,
   "id": "4626bce7",
   "metadata": {
    "execution": {
     "iopub.execute_input": "2023-03-14T10:02:39.806099Z",
     "iopub.status.busy": "2023-03-14T10:02:39.805242Z",
     "iopub.status.idle": "2023-03-14T10:02:50.825202Z",
     "shell.execute_reply": "2023-03-14T10:02:50.823946Z"
    },
    "id": "WuNg28buAJ4l",
    "outputId": "04138439-37e5-4dc4-db0d-5200ed1fa2ab",
    "papermill": {
     "duration": 11.037452,
     "end_time": "2023-03-14T10:02:50.828226",
     "exception": false,
     "start_time": "2023-03-14T10:02:39.790774",
     "status": "completed"
    },
    "tags": []
   },
   "outputs": [
    {
     "name": "stdout",
     "output_type": "stream",
     "text": [
      "Requirement already satisfied: datasets in /opt/conda/lib/python3.7/site-packages (2.1.0)\r\n"
     ]
    },
    {
     "name": "stdout",
     "output_type": "stream",
     "text": [
      "Requirement already satisfied: tqdm>=4.62.1 in /opt/conda/lib/python3.7/site-packages (from datasets) (4.64.1)\r\n",
      "Requirement already satisfied: aiohttp in /opt/conda/lib/python3.7/site-packages (from datasets) (3.8.3)\r\n",
      "Requirement already satisfied: huggingface-hub<1.0.0,>=0.1.0 in /opt/conda/lib/python3.7/site-packages (from datasets) (0.12.1)\r\n",
      "Requirement already satisfied: responses<0.19 in /opt/conda/lib/python3.7/site-packages (from datasets) (0.18.0)\r\n",
      "Requirement already satisfied: requests>=2.19.0 in /opt/conda/lib/python3.7/site-packages (from datasets) (2.28.2)\r\n",
      "Requirement already satisfied: numpy>=1.17 in /opt/conda/lib/python3.7/site-packages (from datasets) (1.21.6)\r\n",
      "Requirement already satisfied: dill in /opt/conda/lib/python3.7/site-packages (from datasets) (0.3.6)\r\n",
      "Requirement already satisfied: importlib-metadata in /opt/conda/lib/python3.7/site-packages (from datasets) (4.11.4)\r\n",
      "Requirement already satisfied: packaging in /opt/conda/lib/python3.7/site-packages (from datasets) (23.0)\r\n",
      "Requirement already satisfied: pyarrow>=5.0.0 in /opt/conda/lib/python3.7/site-packages (from datasets) (5.0.0)\r\n",
      "Requirement already satisfied: fsspec[http]>=2021.05.0 in /opt/conda/lib/python3.7/site-packages (from datasets) (2023.1.0)\r\n",
      "Requirement already satisfied: pandas in /opt/conda/lib/python3.7/site-packages (from datasets) (1.3.5)\r\n",
      "Requirement already satisfied: xxhash in /opt/conda/lib/python3.7/site-packages (from datasets) (3.2.0)\r\n",
      "Requirement already satisfied: multiprocess in /opt/conda/lib/python3.7/site-packages (from datasets) (0.70.14)\r\n"
     ]
    },
    {
     "name": "stdout",
     "output_type": "stream",
     "text": [
      "Requirement already satisfied: charset-normalizer<3.0,>=2.0 in /opt/conda/lib/python3.7/site-packages (from aiohttp->datasets) (2.1.1)\r\n",
      "Requirement already satisfied: yarl<2.0,>=1.0 in /opt/conda/lib/python3.7/site-packages (from aiohttp->datasets) (1.8.2)\r\n",
      "Requirement already satisfied: aiosignal>=1.1.2 in /opt/conda/lib/python3.7/site-packages (from aiohttp->datasets) (1.3.1)\r\n",
      "Requirement already satisfied: multidict<7.0,>=4.5 in /opt/conda/lib/python3.7/site-packages (from aiohttp->datasets) (6.0.4)\r\n",
      "Requirement already satisfied: frozenlist>=1.1.1 in /opt/conda/lib/python3.7/site-packages (from aiohttp->datasets) (1.3.3)\r\n",
      "Requirement already satisfied: attrs>=17.3.0 in /opt/conda/lib/python3.7/site-packages (from aiohttp->datasets) (22.2.0)\r\n",
      "Requirement already satisfied: typing-extensions>=3.7.4 in /opt/conda/lib/python3.7/site-packages (from aiohttp->datasets) (4.4.0)\r\n",
      "Requirement already satisfied: asynctest==0.13.0 in /opt/conda/lib/python3.7/site-packages (from aiohttp->datasets) (0.13.0)\r\n",
      "Requirement already satisfied: async-timeout<5.0,>=4.0.0a3 in /opt/conda/lib/python3.7/site-packages (from aiohttp->datasets) (4.0.2)\r\n"
     ]
    },
    {
     "name": "stdout",
     "output_type": "stream",
     "text": [
      "Requirement already satisfied: pyyaml>=5.1 in /opt/conda/lib/python3.7/site-packages (from huggingface-hub<1.0.0,>=0.1.0->datasets) (6.0)\r\n",
      "Requirement already satisfied: filelock in /opt/conda/lib/python3.7/site-packages (from huggingface-hub<1.0.0,>=0.1.0->datasets) (3.9.0)\r\n",
      "Requirement already satisfied: certifi>=2017.4.17 in /opt/conda/lib/python3.7/site-packages (from requests>=2.19.0->datasets) (2022.12.7)\r\n",
      "Requirement already satisfied: urllib3<1.27,>=1.21.1 in /opt/conda/lib/python3.7/site-packages (from requests>=2.19.0->datasets) (1.26.14)\r\n",
      "Requirement already satisfied: idna<4,>=2.5 in /opt/conda/lib/python3.7/site-packages (from requests>=2.19.0->datasets) (3.4)\r\n"
     ]
    },
    {
     "name": "stdout",
     "output_type": "stream",
     "text": [
      "Requirement already satisfied: zipp>=0.5 in /opt/conda/lib/python3.7/site-packages (from importlib-metadata->datasets) (3.11.0)\r\n"
     ]
    },
    {
     "name": "stdout",
     "output_type": "stream",
     "text": [
      "Requirement already satisfied: python-dateutil>=2.7.3 in /opt/conda/lib/python3.7/site-packages (from pandas->datasets) (2.8.2)\r\n",
      "Requirement already satisfied: pytz>=2017.3 in /opt/conda/lib/python3.7/site-packages (from pandas->datasets) (2022.7.1)\r\n"
     ]
    },
    {
     "name": "stdout",
     "output_type": "stream",
     "text": [
      "Requirement already satisfied: six>=1.5 in /opt/conda/lib/python3.7/site-packages (from python-dateutil>=2.7.3->pandas->datasets) (1.16.0)\r\n"
     ]
    },
    {
     "name": "stdout",
     "output_type": "stream",
     "text": [
      "\u001b[33mWARNING: Running pip as the 'root' user can result in broken permissions and conflicting behaviour with the system package manager. It is recommended to use a virtual environment instead: https://pip.pypa.io/warnings/venv\u001b[0m\u001b[33m\r\n",
      "\u001b[0m"
     ]
    }
   ],
   "source": [
    "!pip install datasets"
   ]
  },
  {
   "cell_type": "code",
   "execution_count": 2,
   "id": "29fdbc60",
   "metadata": {
    "execution": {
     "iopub.execute_input": "2023-03-14T10:02:50.857602Z",
     "iopub.status.busy": "2023-03-14T10:02:50.856516Z",
     "iopub.status.idle": "2023-03-14T10:03:00.749399Z",
     "shell.execute_reply": "2023-03-14T10:03:00.747914Z"
    },
    "id": "nWrigYkxEgIv",
    "outputId": "62b0caeb-5012-4007-deca-b1128b27723e",
    "papermill": {
     "duration": 9.910533,
     "end_time": "2023-03-14T10:03:00.752834",
     "exception": false,
     "start_time": "2023-03-14T10:02:50.842301",
     "status": "completed"
    },
    "tags": []
   },
   "outputs": [
    {
     "name": "stdout",
     "output_type": "stream",
     "text": [
      "Requirement already satisfied: transformers in /opt/conda/lib/python3.7/site-packages (4.26.1)\r\n"
     ]
    },
    {
     "name": "stdout",
     "output_type": "stream",
     "text": [
      "Requirement already satisfied: regex!=2019.12.17 in /opt/conda/lib/python3.7/site-packages (from transformers) (2021.11.10)\r\n",
      "Requirement already satisfied: pyyaml>=5.1 in /opt/conda/lib/python3.7/site-packages (from transformers) (6.0)\r\n",
      "Requirement already satisfied: tqdm>=4.27 in /opt/conda/lib/python3.7/site-packages (from transformers) (4.64.1)\r\n",
      "Requirement already satisfied: importlib-metadata in /opt/conda/lib/python3.7/site-packages (from transformers) (4.11.4)\r\n",
      "Requirement already satisfied: tokenizers!=0.11.3,<0.14,>=0.11.1 in /opt/conda/lib/python3.7/site-packages (from transformers) (0.13.2)\r\n",
      "Requirement already satisfied: filelock in /opt/conda/lib/python3.7/site-packages (from transformers) (3.9.0)\r\n",
      "Requirement already satisfied: packaging>=20.0 in /opt/conda/lib/python3.7/site-packages (from transformers) (23.0)\r\n",
      "Requirement already satisfied: numpy>=1.17 in /opt/conda/lib/python3.7/site-packages (from transformers) (1.21.6)\r\n",
      "Requirement already satisfied: requests in /opt/conda/lib/python3.7/site-packages (from transformers) (2.28.2)\r\n",
      "Requirement already satisfied: huggingface-hub<1.0,>=0.11.0 in /opt/conda/lib/python3.7/site-packages (from transformers) (0.12.1)\r\n"
     ]
    },
    {
     "name": "stdout",
     "output_type": "stream",
     "text": [
      "Requirement already satisfied: typing-extensions>=3.7.4.3 in /opt/conda/lib/python3.7/site-packages (from huggingface-hub<1.0,>=0.11.0->transformers) (4.4.0)\r\n"
     ]
    },
    {
     "name": "stdout",
     "output_type": "stream",
     "text": [
      "Requirement already satisfied: zipp>=0.5 in /opt/conda/lib/python3.7/site-packages (from importlib-metadata->transformers) (3.11.0)\r\n",
      "Requirement already satisfied: idna<4,>=2.5 in /opt/conda/lib/python3.7/site-packages (from requests->transformers) (3.4)\r\n",
      "Requirement already satisfied: charset-normalizer<4,>=2 in /opt/conda/lib/python3.7/site-packages (from requests->transformers) (2.1.1)\r\n",
      "Requirement already satisfied: urllib3<1.27,>=1.21.1 in /opt/conda/lib/python3.7/site-packages (from requests->transformers) (1.26.14)\r\n",
      "Requirement already satisfied: certifi>=2017.4.17 in /opt/conda/lib/python3.7/site-packages (from requests->transformers) (2022.12.7)\r\n"
     ]
    },
    {
     "name": "stdout",
     "output_type": "stream",
     "text": [
      "\u001b[33mWARNING: Running pip as the 'root' user can result in broken permissions and conflicting behaviour with the system package manager. It is recommended to use a virtual environment instead: https://pip.pypa.io/warnings/venv\u001b[0m\u001b[33m\r\n",
      "\u001b[0m"
     ]
    }
   ],
   "source": [
    "!pip install transformers"
   ]
  },
  {
   "cell_type": "code",
   "execution_count": 3,
   "id": "40298ce8",
   "metadata": {
    "execution": {
     "iopub.execute_input": "2023-03-14T10:03:00.806308Z",
     "iopub.status.busy": "2023-03-14T10:03:00.805873Z",
     "iopub.status.idle": "2023-03-14T10:03:22.524227Z",
     "shell.execute_reply": "2023-03-14T10:03:22.523147Z"
    },
    "id": "1vqXr6W8_mak",
    "outputId": "31030660-339b-46dc-a61c-26e0b9cac619",
    "papermill": {
     "duration": 21.743117,
     "end_time": "2023-03-14T10:03:22.526683",
     "exception": false,
     "start_time": "2023-03-14T10:03:00.783566",
     "status": "completed"
    },
    "tags": []
   },
   "outputs": [
    {
     "data": {
      "text/plain": [
       "device(type='cuda', index=0)"
      ]
     },
     "execution_count": 3,
     "metadata": {},
     "output_type": "execute_result"
    }
   ],
   "source": [
    "import datasets\n",
    "import seaborn as sns\n",
    "import matplotlib.pyplot as plt\n",
    "import torch\n",
    "torch.cuda.empty_cache()\n",
    "import pandas as pd\n",
    "import torch.nn.functional as F\n",
    "import numpy as np\n",
    "\n",
    "\n",
    "\n",
    "from collections import defaultdict\n",
    "from torch import  nn \n",
    "from datasets import load_dataset\n",
    "from transformers import RobertaTokenizer, RobertaModel,AdamW, get_linear_schedule_with_warmup\n",
    "from torch.utils.data import Dataset,DataLoader\n",
    "from sklearn.model_selection import train_test_split\n",
    "device = torch.device(\"cuda:0\" if torch.cuda.is_available() else \"cpu\")\n",
    "device"
   ]
  },
  {
   "cell_type": "markdown",
   "id": "41a50ffd",
   "metadata": {
    "id": "he1Q-RFqD2Wh",
    "papermill": {
     "duration": 0.013618,
     "end_time": "2023-03-14T10:03:22.553443",
     "exception": false,
     "start_time": "2023-03-14T10:03:22.539825",
     "status": "completed"
    },
    "tags": []
   },
   "source": [
    "### Load dataset"
   ]
  },
  {
   "cell_type": "code",
   "execution_count": null,
   "id": "12e78f49",
   "metadata": {
    "id": "bHsqMHF2fdrl",
    "papermill": {
     "duration": 0.013913,
     "end_time": "2023-03-14T10:03:22.580526",
     "exception": false,
     "start_time": "2023-03-14T10:03:22.566613",
     "status": "completed"
    },
    "tags": []
   },
   "outputs": [],
   "source": []
  },
  {
   "cell_type": "code",
   "execution_count": null,
   "id": "a0c8f019",
   "metadata": {
    "id": "FyUmq7H-gl3i",
    "papermill": {
     "duration": 0.013915,
     "end_time": "2023-03-14T10:03:22.608586",
     "exception": false,
     "start_time": "2023-03-14T10:03:22.594671",
     "status": "completed"
    },
    "tags": []
   },
   "outputs": [],
   "source": []
  },
  {
   "cell_type": "code",
   "execution_count": null,
   "id": "c35f3d5c",
   "metadata": {
    "execution": {
     "iopub.execute_input": "2023-03-14T09:49:47.840992Z",
     "iopub.status.busy": "2023-03-14T09:49:47.840701Z",
     "iopub.status.idle": "2023-03-14T09:50:19.850603Z",
     "shell.execute_reply": "2023-03-14T09:50:19.849504Z",
     "shell.execute_reply.started": "2023-03-14T09:49:47.840959Z"
    },
    "id": "RSJsjd-9_5aO",
    "outputId": "ed35bac7-e451-44b8-b7bb-086ddeced018",
    "papermill": {
     "duration": null,
     "end_time": null,
     "exception": false,
     "start_time": "2023-03-14T10:03:22.622411",
     "status": "running"
    },
    "tags": []
   },
   "outputs": [],
   "source": [
    "df= datasets.load_dataset('imdb')"
   ]
  },
  {
   "cell_type": "code",
   "execution_count": null,
   "id": "9a764af6",
   "metadata": {
    "id": "YuJo5aOzA0-v",
    "papermill": {
     "duration": null,
     "end_time": null,
     "exception": null,
     "start_time": null,
     "status": "pending"
    },
    "tags": []
   },
   "outputs": [],
   "source": []
  },
  {
   "cell_type": "markdown",
   "id": "c55b32aa",
   "metadata": {
    "id": "-MQjW7zjD4r6",
    "papermill": {
     "duration": null,
     "end_time": null,
     "exception": null,
     "start_time": null,
     "status": "pending"
    },
    "tags": []
   },
   "source": [
    "### Data preprocessing"
   ]
  },
  {
   "cell_type": "code",
   "execution_count": null,
   "id": "06d2a5cc",
   "metadata": {
    "execution": {
     "iopub.execute_input": "2023-03-14T09:50:19.852900Z",
     "iopub.status.busy": "2023-03-14T09:50:19.852052Z",
     "iopub.status.idle": "2023-03-14T09:50:19.858006Z",
     "shell.execute_reply": "2023-03-14T09:50:19.856712Z",
     "shell.execute_reply.started": "2023-03-14T09:50:19.852860Z"
    },
    "id": "5j0JAp4gBkwN",
    "papermill": {
     "duration": null,
     "end_time": null,
     "exception": null,
     "start_time": null,
     "status": "pending"
    },
    "tags": []
   },
   "outputs": [],
   "source": [
    "PRE_TRAINED_MODEL_NAME = 'roberta-base'"
   ]
  },
  {
   "cell_type": "code",
   "execution_count": null,
   "id": "3618eb53",
   "metadata": {
    "execution": {
     "iopub.execute_input": "2023-03-14T09:50:19.860161Z",
     "iopub.status.busy": "2023-03-14T09:50:19.859796Z",
     "iopub.status.idle": "2023-03-14T09:50:21.628403Z",
     "shell.execute_reply": "2023-03-14T09:50:21.627379Z",
     "shell.execute_reply.started": "2023-03-14T09:50:19.860124Z"
    },
    "id": "jjEl6dhDD9aY",
    "papermill": {
     "duration": null,
     "end_time": null,
     "exception": null,
     "start_time": null,
     "status": "pending"
    },
    "tags": []
   },
   "outputs": [],
   "source": [
    "tokenizer = RobertaTokenizer.from_pretrained(PRE_TRAINED_MODEL_NAME)"
   ]
  },
  {
   "cell_type": "code",
   "execution_count": null,
   "id": "286d1e0a",
   "metadata": {
    "execution": {
     "iopub.execute_input": "2023-03-14T09:50:21.630434Z",
     "iopub.status.busy": "2023-03-14T09:50:21.630032Z",
     "iopub.status.idle": "2023-03-14T09:50:21.635899Z",
     "shell.execute_reply": "2023-03-14T09:50:21.634301Z",
     "shell.execute_reply.started": "2023-03-14T09:50:21.630396Z"
    },
    "id": "8mGOhKEMEAeU",
    "papermill": {
     "duration": null,
     "end_time": null,
     "exception": null,
     "start_time": null,
     "status": "pending"
    },
    "tags": []
   },
   "outputs": [],
   "source": [
    "sample_txt = 'When was I last outside? I am stuck at home for 2 weeks.'"
   ]
  },
  {
   "cell_type": "code",
   "execution_count": null,
   "id": "0a26b312",
   "metadata": {
    "execution": {
     "iopub.execute_input": "2023-03-14T09:50:21.638310Z",
     "iopub.status.busy": "2023-03-14T09:50:21.637928Z",
     "iopub.status.idle": "2023-03-14T09:50:21.652921Z",
     "shell.execute_reply": "2023-03-14T09:50:21.651903Z",
     "shell.execute_reply.started": "2023-03-14T09:50:21.638273Z"
    },
    "id": "ZPyOBxtUFIqI",
    "outputId": "2a0fb3e5-984e-4fa3-a96a-8ec94e4d3de0",
    "papermill": {
     "duration": null,
     "end_time": null,
     "exception": null,
     "start_time": null,
     "status": "pending"
    },
    "tags": []
   },
   "outputs": [],
   "source": [
    "tokens = tokenizer.tokenize(sample_txt)\n",
    "token_ids = tokenizer.convert_tokens_to_ids(tokens)\n",
    "\n",
    "print(f' Sentence: {sample_txt}')\n",
    "print(f'   Tokens: {tokens}')\n",
    "print(f'Token IDs: {token_ids}')"
   ]
  },
  {
   "cell_type": "code",
   "execution_count": null,
   "id": "fb57b7d9",
   "metadata": {
    "id": "H1gQULDYFKZp",
    "papermill": {
     "duration": null,
     "end_time": null,
     "exception": null,
     "start_time": null,
     "status": "pending"
    },
    "tags": []
   },
   "outputs": [],
   "source": []
  },
  {
   "cell_type": "markdown",
   "id": "e691a932",
   "metadata": {
    "id": "waKjYxTDuaWt",
    "papermill": {
     "duration": null,
     "end_time": null,
     "exception": null,
     "start_time": null,
     "status": "pending"
    },
    "tags": []
   },
   "source": [
    "### Choosing Sequence Length\n",
    "\n",
    "BERT works with fixed-length sequences. We'll use a simple strategy to choose the max length. Let's store the token length of each review:"
   ]
  },
  {
   "cell_type": "code",
   "execution_count": null,
   "id": "00dd2483",
   "metadata": {
    "id": "mw5QbPOjGYhm",
    "papermill": {
     "duration": null,
     "end_time": null,
     "exception": null,
     "start_time": null,
     "status": "pending"
    },
    "tags": []
   },
   "outputs": [],
   "source": []
  },
  {
   "cell_type": "code",
   "execution_count": null,
   "id": "36cffb62",
   "metadata": {
    "execution": {
     "iopub.execute_input": "2023-03-14T09:50:21.655231Z",
     "iopub.status.busy": "2023-03-14T09:50:21.654724Z",
     "iopub.status.idle": "2023-03-14T09:50:24.604814Z",
     "shell.execute_reply": "2023-03-14T09:50:24.603786Z",
     "shell.execute_reply.started": "2023-03-14T09:50:21.655186Z"
    },
    "id": "BUnE5CT9hbeZ",
    "outputId": "f06ad312-7735-453e-c92e-b979ccde58c7",
    "papermill": {
     "duration": null,
     "end_time": null,
     "exception": null,
     "start_time": null,
     "status": "pending"
    },
    "tags": []
   },
   "outputs": [],
   "source": [
    "token_lens = []\n",
    "\n",
    "for txt in df['train']['text'][:1000]:\n",
    "  tokens = tokenizer.encode(txt, max_length=1024)\n",
    "  token_lens.append(len(tokens))"
   ]
  },
  {
   "cell_type": "markdown",
   "id": "8c4adf5a",
   "metadata": {
    "id": "tI4goUrHf6da",
    "papermill": {
     "duration": null,
     "end_time": null,
     "exception": null,
     "start_time": null,
     "status": "pending"
    },
    "tags": []
   },
   "source": [
    "and plot the distribution:"
   ]
  },
  {
   "cell_type": "code",
   "execution_count": null,
   "id": "e494ec43",
   "metadata": {
    "execution": {
     "iopub.execute_input": "2023-03-14T09:50:24.609548Z",
     "iopub.status.busy": "2023-03-14T09:50:24.609225Z",
     "iopub.status.idle": "2023-03-14T09:50:24.923156Z",
     "shell.execute_reply": "2023-03-14T09:50:24.922154Z",
     "shell.execute_reply.started": "2023-03-14T09:50:24.609519Z"
    },
    "id": "SzE1j4jxmUtd",
    "outputId": "8ef96124-735a-4d2a-976c-cefef9f48eef",
    "papermill": {
     "duration": null,
     "end_time": null,
     "exception": null,
     "start_time": null,
     "status": "pending"
    },
    "tags": []
   },
   "outputs": [],
   "source": [
    "sns.distplot(token_lens)\n",
    "plt.xlabel('Token count');\n",
    "plt.show()"
   ]
  },
  {
   "cell_type": "markdown",
   "id": "ef0da3a5",
   "metadata": {
    "id": "oW6ajl30t6du",
    "papermill": {
     "duration": null,
     "end_time": null,
     "exception": null,
     "start_time": null,
     "status": "pending"
    },
    "tags": []
   },
   "source": [
    "Most of the reviews seem to contain less than 400 tokens, but we'll be on the \n",
    "\n",
    "---\n",
    "\n",
    "safe side and choose a maximum length of 512."
   ]
  },
  {
   "cell_type": "code",
   "execution_count": null,
   "id": "ac0f1c8a",
   "metadata": {
    "execution": {
     "iopub.execute_input": "2023-03-14T09:50:24.925723Z",
     "iopub.status.busy": "2023-03-14T09:50:24.924646Z",
     "iopub.status.idle": "2023-03-14T09:50:24.930308Z",
     "shell.execute_reply": "2023-03-14T09:50:24.929174Z",
     "shell.execute_reply.started": "2023-03-14T09:50:24.925683Z"
    },
    "id": "t7xSmJtLuoxW",
    "papermill": {
     "duration": null,
     "end_time": null,
     "exception": null,
     "start_time": null,
     "status": "pending"
    },
    "tags": []
   },
   "outputs": [],
   "source": [
    "MAX_LEN = 512"
   ]
  },
  {
   "cell_type": "markdown",
   "id": "7126ff6c",
   "metadata": {
    "papermill": {
     "duration": null,
     "end_time": null,
     "exception": null,
     "start_time": null,
     "status": "pending"
    },
    "tags": []
   },
   "source": [
    "### Building a sentiment classifier"
   ]
  },
  {
   "cell_type": "markdown",
   "id": "145b2a8c",
   "metadata": {
    "id": "XvvcoU6nurHy",
    "papermill": {
     "duration": null,
     "end_time": null,
     "exception": null,
     "start_time": null,
     "status": "pending"
    },
    "tags": []
   },
   "source": [
    "We have all building blocks required to create a PyTorch dataset. Let's do it:"
   ]
  },
  {
   "cell_type": "code",
   "execution_count": null,
   "id": "8a0cdf14",
   "metadata": {
    "execution": {
     "iopub.execute_input": "2023-03-14T09:50:24.932517Z",
     "iopub.status.busy": "2023-03-14T09:50:24.932021Z",
     "iopub.status.idle": "2023-03-14T09:50:24.942201Z",
     "shell.execute_reply": "2023-03-14T09:50:24.941228Z",
     "shell.execute_reply.started": "2023-03-14T09:50:24.932479Z"
    },
    "id": "E2BPgRJ7YBK0",
    "papermill": {
     "duration": null,
     "end_time": null,
     "exception": null,
     "start_time": null,
     "status": "pending"
    },
    "tags": []
   },
   "outputs": [],
   "source": [
    "class GPReviewDataset(Dataset):\n",
    "\n",
    "  def __init__(self, reviews, targets, tokenizer, max_len):\n",
    "    self.reviews = reviews\n",
    "    self.targets = targets\n",
    "    self.tokenizer = tokenizer\n",
    "    self.max_len = max_len\n",
    "  \n",
    "  def __len__(self):\n",
    "    return len(self.reviews)\n",
    "  \n",
    "  def __getitem__(self, item):\n",
    "    review = str(self.reviews[item])\n",
    "    target = self.targets[item]\n",
    "\n",
    "    encoding = self.tokenizer.encode_plus(\n",
    "      review,\n",
    "      add_special_tokens=True,\n",
    "      max_length=self.max_len,\n",
    "      return_token_type_ids=False,\n",
    "      pad_to_max_length=True,\n",
    "      return_attention_mask=True,\n",
    "      return_tensors='pt',\n",
    "    )\n",
    "\n",
    "    return {\n",
    "      'review_text': review,\n",
    "      'input_ids': encoding['input_ids'].flatten(),\n",
    "      'attention_mask': encoding['attention_mask'].flatten(),\n",
    "      'targets': torch.tensor(target, dtype=torch.long)\n",
    "    }"
   ]
  },
  {
   "cell_type": "markdown",
   "id": "d4d1dc5d",
   "metadata": {
    "id": "x2uwsvCYqDJK",
    "papermill": {
     "duration": null,
     "end_time": null,
     "exception": null,
     "start_time": null,
     "status": "pending"
    },
    "tags": []
   },
   "source": [
    "The tokenizer is doing most of the heavy lifting for us. We also return the review texts, so it'll be easier to evaluate the predictions from our model. Let's split the data:"
   ]
  },
  {
   "cell_type": "code",
   "execution_count": null,
   "id": "eb143e26",
   "metadata": {
    "id": "TUf6z8N-OqZg",
    "papermill": {
     "duration": null,
     "end_time": null,
     "exception": null,
     "start_time": null,
     "status": "pending"
    },
    "tags": []
   },
   "outputs": [],
   "source": []
  },
  {
   "cell_type": "code",
   "execution_count": null,
   "id": "a800609d",
   "metadata": {
    "execution": {
     "iopub.execute_input": "2023-03-14T09:50:24.944029Z",
     "iopub.status.busy": "2023-03-14T09:50:24.943607Z",
     "iopub.status.idle": "2023-03-14T09:50:27.858811Z",
     "shell.execute_reply": "2023-03-14T09:50:27.857751Z",
     "shell.execute_reply.started": "2023-03-14T09:50:24.943993Z"
    },
    "id": "g9luaKnWOi8J",
    "papermill": {
     "duration": null,
     "end_time": null,
     "exception": null,
     "start_time": null,
     "status": "pending"
    },
    "tags": []
   },
   "outputs": [],
   "source": [
    "df_train = pd.DataFrame(df['train'] )\n",
    "df_test=pd.DataFrame(df['test'] )\n",
    "df=pd.concat([df_train,df_test],axis=0)"
   ]
  },
  {
   "cell_type": "code",
   "execution_count": null,
   "id": "4e87fb48",
   "metadata": {
    "id": "-Dg_1gL6kcUE",
    "papermill": {
     "duration": null,
     "end_time": null,
     "exception": null,
     "start_time": null,
     "status": "pending"
    },
    "tags": []
   },
   "outputs": [],
   "source": []
  },
  {
   "cell_type": "code",
   "execution_count": null,
   "id": "b0ea84be",
   "metadata": {
    "execution": {
     "iopub.execute_input": "2023-03-14T09:50:27.860529Z",
     "iopub.status.busy": "2023-03-14T09:50:27.860116Z",
     "iopub.status.idle": "2023-03-14T09:50:27.877571Z",
     "shell.execute_reply": "2023-03-14T09:50:27.876687Z",
     "shell.execute_reply.started": "2023-03-14T09:50:27.860485Z"
    },
    "id": "B-vWzoo81dvO",
    "papermill": {
     "duration": null,
     "end_time": null,
     "exception": null,
     "start_time": null,
     "status": "pending"
    },
    "tags": []
   },
   "outputs": [],
   "source": [
    "\n",
    "df_train, df_test = train_test_split(df, test_size=0.1, random_state=42)\n",
    "df_val, df_test = train_test_split(df_test, test_size=0.5, random_state=42)"
   ]
  },
  {
   "cell_type": "code",
   "execution_count": null,
   "id": "e2e82d28",
   "metadata": {
    "execution": {
     "iopub.execute_input": "2023-03-14T09:50:27.879469Z",
     "iopub.status.busy": "2023-03-14T09:50:27.878999Z",
     "iopub.status.idle": "2023-03-14T09:50:27.953565Z",
     "shell.execute_reply": "2023-03-14T09:50:27.952508Z",
     "shell.execute_reply.started": "2023-03-14T09:50:27.879432Z"
    },
    "id": "xz3ZOQXVPCwh",
    "outputId": "6010889d-fc4e-4db0-9499-33cba262fd19",
    "papermill": {
     "duration": null,
     "end_time": null,
     "exception": null,
     "start_time": null,
     "status": "pending"
    },
    "tags": []
   },
   "outputs": [],
   "source": [
    "df_train.shape, df_val.shape, df_test.shape"
   ]
  },
  {
   "cell_type": "markdown",
   "id": "9a245db8",
   "metadata": {
    "id": "J4tQ1x-vqNab",
    "papermill": {
     "duration": null,
     "end_time": null,
     "exception": null,
     "start_time": null,
     "status": "pending"
    },
    "tags": []
   },
   "source": [
    "We also need to create a couple of data loaders. Here's a helper function to do it:"
   ]
  },
  {
   "cell_type": "code",
   "execution_count": null,
   "id": "a2ea44a0",
   "metadata": {
    "execution": {
     "iopub.execute_input": "2023-03-14T09:50:27.957356Z",
     "iopub.status.busy": "2023-03-14T09:50:27.955973Z",
     "iopub.status.idle": "2023-03-14T09:50:27.964388Z",
     "shell.execute_reply": "2023-03-14T09:50:27.963282Z",
     "shell.execute_reply.started": "2023-03-14T09:50:27.957315Z"
    },
    "id": "KEGqcvkuOuTX",
    "papermill": {
     "duration": null,
     "end_time": null,
     "exception": null,
     "start_time": null,
     "status": "pending"
    },
    "tags": []
   },
   "outputs": [],
   "source": [
    "def create_data_loader(df, tokenizer, max_len, batch_size):\n",
    "  ds = GPReviewDataset(\n",
    "    reviews=df.text.to_numpy(),\n",
    "    targets=df.label.to_numpy(),\n",
    "    tokenizer=tokenizer,\n",
    "    max_len=max_len\n",
    "  )\n",
    "\n",
    "  return DataLoader(\n",
    "    ds,\n",
    "    batch_size=batch_size,\n",
    "    num_workers=4\n",
    "  )"
   ]
  },
  {
   "cell_type": "code",
   "execution_count": null,
   "id": "4bf31020",
   "metadata": {
    "execution": {
     "iopub.execute_input": "2023-03-14T09:50:27.966427Z",
     "iopub.status.busy": "2023-03-14T09:50:27.965978Z",
     "iopub.status.idle": "2023-03-14T09:50:27.978525Z",
     "shell.execute_reply": "2023-03-14T09:50:27.977415Z",
     "shell.execute_reply.started": "2023-03-14T09:50:27.966392Z"
    },
    "id": "vODDxMKsPHqI",
    "papermill": {
     "duration": null,
     "end_time": null,
     "exception": null,
     "start_time": null,
     "status": "pending"
    },
    "tags": []
   },
   "outputs": [],
   "source": [
    "BATCH_SIZE = 16\n",
    "train_data_loader = create_data_loader(df_train, tokenizer, MAX_LEN, BATCH_SIZE)\n",
    "val_data_loader = create_data_loader(df_val, tokenizer, MAX_LEN, BATCH_SIZE)\n",
    "test_data_loader = create_data_loader(df_test, tokenizer, MAX_LEN, BATCH_SIZE)"
   ]
  },
  {
   "cell_type": "markdown",
   "id": "f004f341",
   "metadata": {
    "id": "A6dlOptwqlhF",
    "papermill": {
     "duration": null,
     "end_time": null,
     "exception": null,
     "start_time": null,
     "status": "pending"
    },
    "tags": []
   },
   "source": [
    "Let's have a look at an example batch from our training data loader:"
   ]
  },
  {
   "cell_type": "code",
   "execution_count": null,
   "id": "8f6b3dce",
   "metadata": {
    "execution": {
     "iopub.execute_input": "2023-03-14T09:50:27.980527Z",
     "iopub.status.busy": "2023-03-14T09:50:27.979792Z",
     "iopub.status.idle": "2023-03-14T09:50:28.566024Z",
     "shell.execute_reply": "2023-03-14T09:50:28.564536Z",
     "shell.execute_reply.started": "2023-03-14T09:50:27.980485Z"
    },
    "id": "Y93ldSN47FeT",
    "outputId": "53edb531-ae6b-40e9-e4e9-4633badc7457",
    "papermill": {
     "duration": null,
     "end_time": null,
     "exception": null,
     "start_time": null,
     "status": "pending"
    },
    "tags": []
   },
   "outputs": [],
   "source": [
    "data = next(iter(train_data_loader))\n",
    "data.keys()"
   ]
  },
  {
   "cell_type": "code",
   "execution_count": null,
   "id": "e33e02e2",
   "metadata": {
    "execution": {
     "iopub.execute_input": "2023-03-14T09:50:28.568846Z",
     "iopub.status.busy": "2023-03-14T09:50:28.568396Z",
     "iopub.status.idle": "2023-03-14T09:50:28.576899Z",
     "shell.execute_reply": "2023-03-14T09:50:28.575327Z",
     "shell.execute_reply.started": "2023-03-14T09:50:28.568794Z"
    },
    "id": "IdU4YVqb7N8M",
    "outputId": "d213aeb7-a41a-4634-cb7d-dd1751290327",
    "papermill": {
     "duration": null,
     "end_time": null,
     "exception": null,
     "start_time": null,
     "status": "pending"
    },
    "tags": []
   },
   "outputs": [],
   "source": [
    "print(data['input_ids'].shape)\n",
    "print(data['attention_mask'].shape)\n",
    "print(data['targets'].shape)"
   ]
  },
  {
   "cell_type": "markdown",
   "id": "e51dbc92",
   "metadata": {
    "id": "KUa5Xtt5QR2D",
    "papermill": {
     "duration": null,
     "end_time": null,
     "exception": null,
     "start_time": null,
     "status": "pending"
    },
    "tags": []
   },
   "source": [
    "### Sentiment classification with Bert"
   ]
  },
  {
   "cell_type": "code",
   "execution_count": null,
   "id": "3d7a15bc",
   "metadata": {
    "execution": {
     "iopub.execute_input": "2023-03-14T09:50:28.579478Z",
     "iopub.status.busy": "2023-03-14T09:50:28.578993Z",
     "iopub.status.idle": "2023-03-14T09:50:33.571263Z",
     "shell.execute_reply": "2023-03-14T09:50:33.570259Z",
     "shell.execute_reply.started": "2023-03-14T09:50:28.579440Z"
    },
    "id": "OO2a3yjVQEgb",
    "outputId": "f3f178af-9d37-4e9e-e5c9-63f8dc37d99d",
    "papermill": {
     "duration": null,
     "end_time": null,
     "exception": null,
     "start_time": null,
     "status": "pending"
    },
    "tags": []
   },
   "outputs": [],
   "source": [
    "robert_model = RobertaModel.from_pretrained(PRE_TRAINED_MODEL_NAME)"
   ]
  },
  {
   "cell_type": "code",
   "execution_count": null,
   "id": "8287b7f9",
   "metadata": {
    "execution": {
     "iopub.execute_input": "2023-03-14T09:50:33.573671Z",
     "iopub.status.busy": "2023-03-14T09:50:33.573269Z",
     "iopub.status.idle": "2023-03-14T09:50:33.847247Z",
     "shell.execute_reply": "2023-03-14T09:50:33.845913Z",
     "shell.execute_reply.started": "2023-03-14T09:50:33.573631Z"
    },
    "id": "1jaTDiCPQmBU",
    "outputId": "14a0a812-3bf2-4b09-902b-59e918f4e304",
    "papermill": {
     "duration": null,
     "end_time": null,
     "exception": null,
     "start_time": null,
     "status": "pending"
    },
    "tags": []
   },
   "outputs": [],
   "source": [
    "encoding = tokenizer.encode_plus(\n",
    "  sample_txt,\n",
    "  max_length=32,\n",
    "  add_special_tokens=True, # Add '[CLS]' and '[SEP]'\n",
    "  return_token_type_ids=False,\n",
    "  pad_to_max_length=True,\n",
    "  return_attention_mask=True,\n",
    "  return_tensors='pt',  # Return PyTorch tensors\n",
    ")\n",
    "last_hidden_state, pooled_output = robert_model(\n",
    "  input_ids=encoding['input_ids'], \n",
    "  attention_mask=encoding['attention_mask']\n",
    ")"
   ]
  },
  {
   "cell_type": "code",
   "execution_count": null,
   "id": "0962b517",
   "metadata": {
    "execution": {
     "iopub.execute_input": "2023-03-14T09:50:33.849957Z",
     "iopub.status.busy": "2023-03-14T09:50:33.849107Z",
     "iopub.status.idle": "2023-03-14T09:50:33.858310Z",
     "shell.execute_reply": "2023-03-14T09:50:33.856997Z",
     "shell.execute_reply.started": "2023-03-14T09:50:33.849914Z"
    },
    "id": "a0wCXYEcRHhG",
    "papermill": {
     "duration": null,
     "end_time": null,
     "exception": null,
     "start_time": null,
     "status": "pending"
    },
    "tags": []
   },
   "outputs": [],
   "source": [
    "class SentimentClassifier(nn.Module):\n",
    "\n",
    "  def __init__(self, n_classes):\n",
    "    super(SentimentClassifier, self).__init__()\n",
    "    self.bert = RobertaModel.from_pretrained(PRE_TRAINED_MODEL_NAME,return_dict=False)\n",
    "    self.drop = nn.Dropout(p=0.3)\n",
    "    self.out = nn.Linear(self.bert.config.hidden_size, n_classes)\n",
    "  \n",
    "  def forward(self, input_ids, attention_mask):\n",
    "    _, pooled_output = self.bert(\n",
    "      input_ids=input_ids,\n",
    "      attention_mask=attention_mask\n",
    "    )\n",
    "    output = self.drop(pooled_output)\n",
    "    return self.out(output)"
   ]
  },
  {
   "cell_type": "code",
   "execution_count": null,
   "id": "7bc2ae84",
   "metadata": {
    "execution": {
     "iopub.execute_input": "2023-03-14T09:55:10.649425Z",
     "iopub.status.busy": "2023-03-14T09:55:10.648363Z",
     "iopub.status.idle": "2023-03-14T09:55:17.546945Z",
     "shell.execute_reply": "2023-03-14T09:55:17.545654Z",
     "shell.execute_reply.started": "2023-03-14T09:55:10.649386Z"
    },
    "papermill": {
     "duration": null,
     "end_time": null,
     "exception": null,
     "start_time": null,
     "status": "pending"
    },
    "tags": []
   },
   "outputs": [],
   "source": [
    "!wget https://www.kaggleusercontent.com/kf/122039412/eyJhbGciOiJkaXIiLCJlbmMiOiJBMTI4Q0JDLUhTMjU2In0..P92S6OWaPhm65AZ8Urq0ng.i0Dm1rOafJeZtcJRc-LusN7PqT2VXhxz5dBa-V_dQAblqaoxc6S8sM5IWZvziRfqeRK9DMUbvKTvO35CDjsU4NzrMuuy3qhjj2B9PaijcgzdNPPfKi-hOxI52vvpgdOQFeD6cIua6MaYwjkd_k-WbNbhezKqhE8suesFTW_jQ05zPnx20JLF5ElmvYYByfyfh16cBE44yEwafGZqpdlAfUyb8pem5D-vv8zYbyFLPK-juSSWPZHha8J5ekvyyjEo2rYlAqzFby4oU7AgGW1v53vn8l_hXK15iBPPqPf4jJDvwwr2AYVJg1p0c2_rN8pp3YMAJSzgklyKhOn6uHooiuou3C7tdlN-bTdC6F9QdfqpbYcDGl1tZUzw3bv7z4eh4XTlaRBbEAspWU2gr9AA5mGUOtF3KeJ_ZL4FwTdXvAlXg8nzzGysJUipstBX0efTATaj6FImKQeLSS2rf1ddwXoJt3sYmiWfy3Ob2iezvLNAu-_M5PuqVcWzmFHMjeV4RLS6rZ7MOWRKyULoc25EbwyiUOJBnXqoXvwCdikncMK6c58oOlcyyL1Lq4lxybE4WjzMP0xpEQffyfHoSPLuO3Kxo-WqLQrfE7i9oTas1_F6YDn1NywE6DrfMarT1ME2S6x33xHG78ioK-lO0RHHuw.y5z-YvcIMOJmez72ZczcnQ/best_model_state.bin"
   ]
  },
  {
   "cell_type": "code",
   "execution_count": null,
   "id": "e75137f1",
   "metadata": {
    "execution": {
     "iopub.execute_input": "2023-03-14T09:55:31.071256Z",
     "iopub.status.busy": "2023-03-14T09:55:31.070102Z",
     "iopub.status.idle": "2023-03-14T09:55:38.365224Z",
     "shell.execute_reply": "2023-03-14T09:55:38.364172Z",
     "shell.execute_reply.started": "2023-03-14T09:55:31.071195Z"
    },
    "id": "nb7ZQg3YRbeT",
    "outputId": "2dbc7dab-7cb2-49b4-bb82-57fe5ba9edf7",
    "papermill": {
     "duration": null,
     "end_time": null,
     "exception": null,
     "start_time": null,
     "status": "pending"
    },
    "tags": []
   },
   "outputs": [],
   "source": [
    "model = SentimentClassifier(2)\n",
    "model.load_state_dict(torch.load('best_model_state.bin'))### to load  save model\n",
    "model = model.to(device)"
   ]
  },
  {
   "cell_type": "code",
   "execution_count": null,
   "id": "57b189da",
   "metadata": {
    "execution": {
     "iopub.execute_input": "2023-03-14T09:55:47.021202Z",
     "iopub.status.busy": "2023-03-14T09:55:47.020160Z",
     "iopub.status.idle": "2023-03-14T09:55:47.028342Z",
     "shell.execute_reply": "2023-03-14T09:55:47.027058Z",
     "shell.execute_reply.started": "2023-03-14T09:55:47.021165Z"
    },
    "id": "NXR--TG1SHnx",
    "outputId": "db642371-d2ab-407f-942b-61206cb806de",
    "papermill": {
     "duration": null,
     "end_time": null,
     "exception": null,
     "start_time": null,
     "status": "pending"
    },
    "tags": []
   },
   "outputs": [],
   "source": [
    "input_ids = data['input_ids'].to(device)\n",
    "attention_mask = data['attention_mask'].to(device)\n",
    "\n",
    "print(input_ids.shape) # batch size x seq length\n",
    "print(attention_mask.shape) # batch size x seq length"
   ]
  },
  {
   "cell_type": "code",
   "execution_count": null,
   "id": "fc3165a5",
   "metadata": {
    "id": "w_MVfc5ud0GJ",
    "papermill": {
     "duration": null,
     "end_time": null,
     "exception": null,
     "start_time": null,
     "status": "pending"
    },
    "tags": []
   },
   "outputs": [],
   "source": []
  },
  {
   "cell_type": "markdown",
   "id": "375d2de1",
   "metadata": {
    "id": "ps8S62IJUbDy",
    "papermill": {
     "duration": null,
     "end_time": null,
     "exception": null,
     "start_time": null,
     "status": "pending"
    },
    "tags": []
   },
   "source": [
    "We can show the softmax that we will use for our ODD detection"
   ]
  },
  {
   "cell_type": "code",
   "execution_count": null,
   "id": "9cdc6940",
   "metadata": {
    "execution": {
     "iopub.execute_input": "2023-03-13T19:38:02.015868Z",
     "iopub.status.busy": "2023-03-13T19:38:02.015193Z",
     "iopub.status.idle": "2023-03-13T19:38:02.284110Z",
     "shell.execute_reply": "2023-03-13T19:38:02.282882Z",
     "shell.execute_reply.started": "2023-03-13T19:38:02.015818Z"
    },
    "id": "17mL4rA3S4zN",
    "papermill": {
     "duration": null,
     "end_time": null,
     "exception": null,
     "start_time": null,
     "status": "pending"
    },
    "tags": []
   },
   "outputs": [],
   "source": [
    "# F.softmax(model(input_ids, attention_mask), dim=1)"
   ]
  },
  {
   "cell_type": "code",
   "execution_count": null,
   "id": "d86dc455",
   "metadata": {
    "id": "dllmO-t_TGif",
    "papermill": {
     "duration": null,
     "end_time": null,
     "exception": null,
     "start_time": null,
     "status": "pending"
    },
    "tags": []
   },
   "outputs": [],
   "source": []
  },
  {
   "cell_type": "markdown",
   "id": "59097155",
   "metadata": {
    "id": "g9xikRdtRN1N",
    "papermill": {
     "duration": null,
     "end_time": null,
     "exception": null,
     "start_time": null,
     "status": "pending"
    },
    "tags": []
   },
   "source": [
    "### Training"
   ]
  },
  {
   "cell_type": "markdown",
   "id": "9c169a99",
   "metadata": {
    "id": "76g7FV85H-T8",
    "papermill": {
     "duration": null,
     "end_time": null,
     "exception": null,
     "start_time": null,
     "status": "pending"
    },
    "tags": []
   },
   "source": [
    "To reproduce the training procedure from the BERT paper, we'll use the [AdamW](https://huggingface.co/transformers/main_classes/optimizer_schedules.html#adamw) optimizer provided by Hugging Face. It corrects weight decay, so it's similar to the original paper. We'll also use a linear scheduler with no warmup steps:"
   ]
  },
  {
   "cell_type": "code",
   "execution_count": null,
   "id": "48a4dddc",
   "metadata": {
    "execution": {
     "iopub.execute_input": "2023-03-14T09:56:22.028333Z",
     "iopub.status.busy": "2023-03-14T09:56:22.027868Z",
     "iopub.status.idle": "2023-03-14T09:56:22.064629Z",
     "shell.execute_reply": "2023-03-14T09:56:22.063570Z",
     "shell.execute_reply.started": "2023-03-14T09:56:22.028281Z"
    },
    "id": "5v-ArJ2fCCcU",
    "outputId": "133b968f-1941-4bf7-becc-e7856adc6d21",
    "papermill": {
     "duration": null,
     "end_time": null,
     "exception": null,
     "start_time": null,
     "status": "pending"
    },
    "tags": []
   },
   "outputs": [],
   "source": [
    "\n",
    "EPOCHS = 10\n",
    "\n",
    "optimizer = AdamW(model.parameters(), lr=2e-5, correct_bias=False)\n",
    "total_steps = len(train_data_loader) * EPOCHS\n",
    "\n",
    "scheduler = get_linear_schedule_with_warmup(\n",
    "  optimizer,\n",
    "  num_warmup_steps=0,\n",
    "  num_training_steps=total_steps\n",
    ")\n",
    "\n",
    "loss_fn = nn.CrossEntropyLoss().to(device)"
   ]
  },
  {
   "cell_type": "code",
   "execution_count": null,
   "id": "dd5da0d9",
   "metadata": {
    "execution": {
     "iopub.execute_input": "2023-03-14T09:56:18.240326Z",
     "iopub.status.busy": "2023-03-14T09:56:18.239931Z",
     "iopub.status.idle": "2023-03-14T09:56:18.250867Z",
     "shell.execute_reply": "2023-03-14T09:56:18.249911Z",
     "shell.execute_reply.started": "2023-03-14T09:56:18.240290Z"
    },
    "id": "bzl9UhuNx1_Q",
    "papermill": {
     "duration": null,
     "end_time": null,
     "exception": null,
     "start_time": null,
     "status": "pending"
    },
    "tags": []
   },
   "outputs": [],
   "source": [
    "\n",
    "def train_epoch(\n",
    "  model, \n",
    "  data_loader, \n",
    "  loss_fn, \n",
    "  optimizer, \n",
    "  device, \n",
    "  scheduler, \n",
    "  n_examples\n",
    "):\n",
    "  model = model.train()\n",
    "\n",
    "  losses = []\n",
    "  correct_predictions = 0\n",
    "  \n",
    "  for d in data_loader:\n",
    "    input_ids = d[\"input_ids\"].to(device)\n",
    "    attention_mask = d[\"attention_mask\"].to(device)\n",
    "    targets = d[\"targets\"].to(device)\n",
    "\n",
    "    outputs = model(\n",
    "      input_ids=input_ids,\n",
    "      attention_mask=attention_mask\n",
    "    )\n",
    "\n",
    "    _, preds = torch.max(outputs, dim=1)\n",
    "    loss = loss_fn(outputs, targets)\n",
    "\n",
    "    correct_predictions += torch.sum(preds == targets)\n",
    "    losses.append(loss.item())\n",
    "\n",
    "    loss.backward()\n",
    "    nn.utils.clip_grad_norm_(model.parameters(), max_norm=1.0)\n",
    "    optimizer.step()\n",
    "    scheduler.step()\n",
    "    optimizer.zero_grad()\n",
    "\n",
    "  return correct_predictions.double() / n_examples, np.mean(losses)"
   ]
  },
  {
   "cell_type": "markdown",
   "id": "8e7b2f7c",
   "metadata": {
    "id": "E4PniYIte0fr",
    "papermill": {
     "duration": null,
     "end_time": null,
     "exception": null,
     "start_time": null,
     "status": "pending"
    },
    "tags": []
   },
   "source": [
    ":"
   ]
  },
  {
   "cell_type": "markdown",
   "id": "8899e4f7",
   "metadata": {
    "papermill": {
     "duration": null,
     "end_time": null,
     "exception": null,
     "start_time": null,
     "status": "pending"
    },
    "tags": []
   },
   "source": [
    "### Evaluation of model"
   ]
  },
  {
   "cell_type": "code",
   "execution_count": null,
   "id": "c20b5ec9",
   "metadata": {
    "execution": {
     "iopub.execute_input": "2023-03-14T09:56:15.282460Z",
     "iopub.status.busy": "2023-03-14T09:56:15.281973Z",
     "iopub.status.idle": "2023-03-14T09:56:15.290676Z",
     "shell.execute_reply": "2023-03-14T09:56:15.289229Z",
     "shell.execute_reply.started": "2023-03-14T09:56:15.282424Z"
    },
    "id": "CXeRorVGIKre",
    "papermill": {
     "duration": null,
     "end_time": null,
     "exception": null,
     "start_time": null,
     "status": "pending"
    },
    "tags": []
   },
   "outputs": [],
   "source": [
    "def eval_model(model, data_loader, loss_fn, device, n_examples):\n",
    "  model = model.eval()\n",
    "\n",
    "  losses = []\n",
    "  correct_predictions = 0\n",
    "\n",
    "  with torch.no_grad():\n",
    "    for d in data_loader:\n",
    "      input_ids = d[\"input_ids\"].to(device)\n",
    "      attention_mask = d[\"attention_mask\"].to(device)\n",
    "      targets = d[\"targets\"].to(device)\n",
    "\n",
    "      outputs = model(\n",
    "        input_ids=input_ids,\n",
    "        attention_mask=attention_mask\n",
    "      )\n",
    "      _, preds = torch.max(outputs, dim=1)\n",
    "\n",
    "      loss = loss_fn(outputs, targets)\n",
    "\n",
    "      correct_predictions += torch.sum(preds == targets)\n",
    "      losses.append(loss.item())\n",
    "\n",
    "  return correct_predictions.double() / n_examples, np.mean(losses)"
   ]
  },
  {
   "cell_type": "markdown",
   "id": "677bd512",
   "metadata": {
    "id": "a_rdSDBHhhCh",
    "papermill": {
     "duration": null,
     "end_time": null,
     "exception": null,
     "start_time": null,
     "status": "pending"
    },
    "tags": []
   },
   "source": [
    "Using those two, we can write our training loop. We'll also store the training history:"
   ]
  },
  {
   "cell_type": "code",
   "execution_count": null,
   "id": "15b20e66",
   "metadata": {
    "execution": {
     "iopub.status.busy": "2023-03-13T23:17:26.965152Z",
     "iopub.status.idle": "2023-03-13T23:17:26.965986Z",
     "shell.execute_reply": "2023-03-13T23:17:26.965746Z",
     "shell.execute_reply.started": "2023-03-13T23:17:26.965720Z"
    },
    "id": "1zhHoFNsxufs",
    "outputId": "a7fc9d15-e8f3-4c2f-9a17-082bdea808dc",
    "papermill": {
     "duration": null,
     "end_time": null,
     "exception": null,
     "start_time": null,
     "status": "pending"
    },
    "tags": []
   },
   "outputs": [],
   "source": [
    "%%time\n",
    "\n",
    "history = defaultdict(list)\n",
    "best_accuracy = 0\n",
    "\n",
    "for epoch in range(EPOCHS):\n",
    "\n",
    "  print(f'Epoch {epoch + 1}/{EPOCHS}')\n",
    "  print('-' * 10)\n",
    "\n",
    "  train_acc, train_loss = train_epoch(\n",
    "    model,\n",
    "    train_data_loader,    \n",
    "    loss_fn, \n",
    "    optimizer, \n",
    "    device, \n",
    "    scheduler, \n",
    "    len(df_train)\n",
    "  )\n",
    "\n",
    "  print(f'Train loss {train_loss} accuracy {train_acc}')\n",
    "\n",
    "  val_acc, val_loss = eval_model(\n",
    "    model,\n",
    "    val_data_loader,\n",
    "    loss_fn, \n",
    "    device, \n",
    "    len(df_val)\n",
    "  )\n",
    "\n",
    "  print(f'Val   loss {val_loss} accuracy {val_acc}')\n",
    "  print()\n",
    "\n",
    "  history['train_acc'].append(train_acc)\n",
    "  history['train_loss'].append(train_loss)\n",
    "  history['val_acc'].append(val_acc)\n",
    "  history['val_loss'].append(val_loss)\n",
    "\n",
    "  if val_acc > best_accuracy:\n",
    "    torch.save(model.state_dict(),'best_model_state.bin')\n",
    "    best_accuracy = val_acc"
   ]
  },
  {
   "cell_type": "code",
   "execution_count": null,
   "id": "944a0a50",
   "metadata": {
    "papermill": {
     "duration": null,
     "end_time": null,
     "exception": null,
     "start_time": null,
     "status": "pending"
    },
    "tags": []
   },
   "outputs": [],
   "source": []
  },
  {
   "cell_type": "code",
   "execution_count": null,
   "id": "76263fc7",
   "metadata": {
    "execution": {
     "iopub.execute_input": "2023-03-14T09:56:31.901464Z",
     "iopub.status.busy": "2023-03-14T09:56:31.900831Z",
     "iopub.status.idle": "2023-03-14T09:57:48.534655Z",
     "shell.execute_reply": "2023-03-14T09:57:48.533351Z",
     "shell.execute_reply.started": "2023-03-14T09:56:31.901426Z"
    },
    "papermill": {
     "duration": null,
     "end_time": null,
     "exception": null,
     "start_time": null,
     "status": "pending"
    },
    "tags": []
   },
   "outputs": [],
   "source": [
    "test_acc, _ = eval_model(\n",
    "  model,\n",
    "  test_data_loader,\n",
    "  loss_fn,\n",
    "  device,\n",
    "  len(df_test)\n",
    ")\n",
    "\n",
    "test_acc.item()"
   ]
  },
  {
   "cell_type": "markdown",
   "id": "94688398",
   "metadata": {
    "papermill": {
     "duration": null,
     "end_time": null,
     "exception": null,
     "start_time": null,
     "status": "pending"
    },
    "tags": []
   },
   "source": [
    "#### ODD WITH MAX SOFTMAX"
   ]
  },
  {
   "cell_type": "code",
   "execution_count": null,
   "id": "063a2954",
   "metadata": {
    "execution": {
     "iopub.execute_input": "2023-03-14T09:57:53.779756Z",
     "iopub.status.busy": "2023-03-14T09:57:53.779002Z",
     "iopub.status.idle": "2023-03-14T09:57:54.033389Z",
     "shell.execute_reply": "2023-03-14T09:57:54.032292Z",
     "shell.execute_reply.started": "2023-03-14T09:57:53.779712Z"
    },
    "papermill": {
     "duration": null,
     "end_time": null,
     "exception": null,
     "start_time": null,
     "status": "pending"
    },
    "tags": []
   },
   "outputs": [],
   "source": [
    "clean_adversarial_sample=pd.read_csv('/kaggle/input/clean-attack-imbb-fool/0')[['text','result_type']]"
   ]
  },
  {
   "cell_type": "code",
   "execution_count": null,
   "id": "482b4352",
   "metadata": {
    "execution": {
     "iopub.execute_input": "2023-03-14T09:57:56.828724Z",
     "iopub.status.busy": "2023-03-14T09:57:56.828209Z",
     "iopub.status.idle": "2023-03-14T09:57:56.851872Z",
     "shell.execute_reply": "2023-03-14T09:57:56.850890Z",
     "shell.execute_reply.started": "2023-03-14T09:57:56.828683Z"
    },
    "papermill": {
     "duration": null,
     "end_time": null,
     "exception": null,
     "start_time": null,
     "status": "pending"
    },
    "tags": []
   },
   "outputs": [],
   "source": [
    "clean_adversarial_sample"
   ]
  },
  {
   "cell_type": "code",
   "execution_count": null,
   "id": "706364a8",
   "metadata": {
    "execution": {
     "iopub.execute_input": "2023-03-14T09:58:00.095687Z",
     "iopub.status.busy": "2023-03-14T09:58:00.095197Z",
     "iopub.status.idle": "2023-03-14T09:58:00.109650Z",
     "shell.execute_reply": "2023-03-14T09:58:00.108086Z",
     "shell.execute_reply.started": "2023-03-14T09:58:00.095642Z"
    },
    "id": "cCm0EFPDZcnj",
    "papermill": {
     "duration": null,
     "end_time": null,
     "exception": null,
     "start_time": null,
     "status": "pending"
    },
    "tags": []
   },
   "outputs": [],
   "source": [
    "def create_attack_data_loader(df, tokenizer, max_len, batch_size):\n",
    "  ds = GPReviewDataset(\n",
    "    reviews=df.text.to_numpy(),\n",
    "    tokenizer=tokenizer,\n",
    "    targets=df.result_type.to_numpy(),\n",
    "    max_len=max_len\n",
    "  )\n",
    "\n",
    "  return DataLoader(\n",
    "    ds,\n",
    "    batch_size=batch_size,\n",
    "  )\n",
    "attack_data_loader = create_attack_data_loader(clean_adversarial_sample, tokenizer, MAX_LEN, BATCH_SIZE)"
   ]
  },
  {
   "cell_type": "markdown",
   "id": "a4973859",
   "metadata": {
    "id": "4r8-5zWsiVur",
    "papermill": {
     "duration": null,
     "end_time": null,
     "exception": null,
     "start_time": null,
     "status": "pending"
    },
    "tags": []
   },
   "source": [
    "Note that we're storing the state of the best model, indicated by the highest validation accuracy."
   ]
  },
  {
   "cell_type": "markdown",
   "id": "7098b0a2",
   "metadata": {
    "id": "wLQf52c7fbzr",
    "papermill": {
     "duration": null,
     "end_time": null,
     "exception": null,
     "start_time": null,
     "status": "pending"
    },
    "tags": []
   },
   "source": [
    "Whoo, this took some time! We can look at the training vs validation accuracy:"
   ]
  },
  {
   "cell_type": "code",
   "execution_count": null,
   "id": "bcd188a6",
   "metadata": {
    "execution": {
     "iopub.execute_input": "2023-03-14T09:58:02.105749Z",
     "iopub.status.busy": "2023-03-14T09:58:02.104921Z",
     "iopub.status.idle": "2023-03-14T09:58:02.120798Z",
     "shell.execute_reply": "2023-03-14T09:58:02.118372Z",
     "shell.execute_reply.started": "2023-03-14T09:58:02.105669Z"
    },
    "id": "-FWG7kBm372V",
    "papermill": {
     "duration": null,
     "end_time": null,
     "exception": null,
     "start_time": null,
     "status": "pending"
    },
    "tags": []
   },
   "outputs": [],
   "source": [
    "def get_predictions(model, data_loader):\n",
    "  model = model.eval()\n",
    "  \n",
    "  review_texts = []\n",
    "  predictions = []\n",
    "  prediction_probs = []\n",
    "  real_values = []\n",
    "\n",
    "  with torch.no_grad():\n",
    "    for d in data_loader:\n",
    "\n",
    "      texts = d[\"review_text\"]\n",
    "      input_ids = d[\"input_ids\"].to(device)\n",
    "      attention_mask = d[\"attention_mask\"].to(device)\n",
    "      targets = d[\"targets\"].to(device)\n",
    "\n",
    "      outputs = model(\n",
    "        input_ids=input_ids,\n",
    "        attention_mask=attention_mask\n",
    "      )\n",
    "      _, preds = torch.max(outputs, dim=1)\n",
    "\n",
    "      probs = F.softmax(outputs, dim=1)\n",
    "\n",
    "      review_texts.extend(texts)\n",
    "      predictions.extend(preds)\n",
    "      prediction_probs.extend(probs)\n",
    "      real_values.extend(targets)\n",
    "\n",
    "  predictions = torch.stack(predictions).cpu()\n",
    "  prediction_probs = torch.stack(prediction_probs).cpu()\n",
    "  real_values = torch.stack(real_values).cpu()\n",
    "  return review_texts, predictions, prediction_probs, real_values"
   ]
  },
  {
   "cell_type": "markdown",
   "id": "19a07c3e",
   "metadata": {
    "id": "ZsHqkLAuf8pv",
    "papermill": {
     "duration": null,
     "end_time": null,
     "exception": null,
     "start_time": null,
     "status": "pending"
    },
    "tags": []
   },
   "source": []
  },
  {
   "cell_type": "code",
   "execution_count": null,
   "id": "7d3698fd",
   "metadata": {
    "execution": {
     "iopub.execute_input": "2023-03-14T09:58:05.892812Z",
     "iopub.status.busy": "2023-03-14T09:58:05.892446Z",
     "iopub.status.idle": "2023-03-14T10:00:22.773985Z",
     "shell.execute_reply": "2023-03-14T10:00:22.772931Z",
     "shell.execute_reply.started": "2023-03-14T09:58:05.892781Z"
    },
    "id": "zoGUH8VZ-pPQ",
    "papermill": {
     "duration": null,
     "end_time": null,
     "exception": null,
     "start_time": null,
     "status": "pending"
    },
    "tags": []
   },
   "outputs": [],
   "source": [
    "y_review_texts, y_pred, y_pred_probs,attack_label_real = get_predictions(\n",
    "  model,\n",
    "  attack_data_loader\n",
    ")"
   ]
  },
  {
   "cell_type": "markdown",
   "id": "95f5ff4f",
   "metadata": {
    "papermill": {
     "duration": null,
     "end_time": null,
     "exception": null,
     "start_time": null,
     "status": "pending"
    },
    "tags": []
   },
   "source": [
    "Get the maximun for odd"
   ]
  },
  {
   "cell_type": "code",
   "execution_count": null,
   "id": "c33e3da2",
   "metadata": {
    "execution": {
     "iopub.execute_input": "2023-03-14T10:00:25.828409Z",
     "iopub.status.busy": "2023-03-14T10:00:25.824424Z",
     "iopub.status.idle": "2023-03-14T10:00:25.843718Z",
     "shell.execute_reply": "2023-03-14T10:00:25.842267Z",
     "shell.execute_reply.started": "2023-03-14T10:00:25.828354Z"
    },
    "papermill": {
     "duration": null,
     "end_time": null,
     "exception": null,
     "start_time": null,
     "status": "pending"
    },
    "tags": []
   },
   "outputs": [],
   "source": [
    " prob=np.amax(y_pred_probs.numpy(), axis=1)\n",
    " prob"
   ]
  },
  {
   "cell_type": "code",
   "execution_count": null,
   "id": "8ea23d93",
   "metadata": {
    "execution": {
     "iopub.execute_input": "2023-03-14T10:00:33.465513Z",
     "iopub.status.busy": "2023-03-14T10:00:33.465061Z",
     "iopub.status.idle": "2023-03-14T10:00:33.473718Z",
     "shell.execute_reply": "2023-03-14T10:00:33.472557Z",
     "shell.execute_reply.started": "2023-03-14T10:00:33.465470Z"
    },
    "papermill": {
     "duration": null,
     "end_time": null,
     "exception": null,
     "start_time": null,
     "status": "pending"
    },
    "tags": []
   },
   "outputs": [],
   "source": [
    "attack_label_real"
   ]
  },
  {
   "cell_type": "raw",
   "id": "caf71e31",
   "metadata": {
    "papermill": {
     "duration": null,
     "end_time": null,
     "exception": null,
     "start_time": null,
     "status": "pending"
    },
    "tags": []
   },
   "source": []
  },
  {
   "cell_type": "code",
   "execution_count": null,
   "id": "a07a0c69",
   "metadata": {
    "execution": {
     "iopub.execute_input": "2023-03-14T10:00:41.881779Z",
     "iopub.status.busy": "2023-03-14T10:00:41.881392Z",
     "iopub.status.idle": "2023-03-14T10:00:41.892835Z",
     "shell.execute_reply": "2023-03-14T10:00:41.891654Z",
     "shell.execute_reply.started": "2023-03-14T10:00:41.881731Z"
    },
    "papermill": {
     "duration": null,
     "end_time": null,
     "exception": null,
     "start_time": null,
     "status": "pending"
    },
    "tags": []
   },
   "outputs": [],
   "source": [
    "from sklearn import metrics\n",
    "fpr, tpr,thresholds = metrics.roc_curve(attack_label_real,prob, pos_label=0)\n",
    "print('AUROC:',metrics.auc(fpr, tpr))"
   ]
  },
  {
   "cell_type": "code",
   "execution_count": null,
   "id": "6e421c74",
   "metadata": {
    "execution": {
     "iopub.execute_input": "2023-03-14T10:00:47.188896Z",
     "iopub.status.busy": "2023-03-14T10:00:47.188461Z",
     "iopub.status.idle": "2023-03-14T10:00:47.199695Z",
     "shell.execute_reply": "2023-03-14T10:00:47.198613Z",
     "shell.execute_reply.started": "2023-03-14T10:00:47.188857Z"
    },
    "papermill": {
     "duration": null,
     "end_time": null,
     "exception": null,
     "start_time": null,
     "status": "pending"
    },
    "tags": []
   },
   "outputs": [],
   "source": [
    "from sklearn.metrics import average_precision_score\n",
    "\n",
    "print('AUPR:',average_precision_score(attack_label_real,prob,pos_label=0))"
   ]
  },
  {
   "cell_type": "code",
   "execution_count": null,
   "id": "1d3bf977",
   "metadata": {
    "papermill": {
     "duration": null,
     "end_time": null,
     "exception": null,
     "start_time": null,
     "status": "pending"
    },
    "tags": []
   },
   "outputs": [],
   "source": []
  }
 ],
 "metadata": {
  "kernelspec": {
   "display_name": "Python 3",
   "language": "python",
   "name": "python3"
  },
  "language_info": {
   "codemirror_mode": {
    "name": "ipython",
    "version": 3
   },
   "file_extension": ".py",
   "mimetype": "text/x-python",
   "name": "python",
   "nbconvert_exporter": "python",
   "pygments_lexer": "ipython3",
   "version": "3.6.4"
  },
  "papermill": {
   "default_parameters": {},
   "duration": null,
   "end_time": null,
   "environment_variables": {},
   "exception": null,
   "input_path": "__notebook__.ipynb",
   "output_path": "__notebook__.ipynb",
   "parameters": {},
   "start_time": "2023-03-14T10:02:26.508719",
   "version": "2.4.0"
  }
 },
 "nbformat": 4,
 "nbformat_minor": 5
}