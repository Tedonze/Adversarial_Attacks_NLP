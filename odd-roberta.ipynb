{
 "cells": [
  {
   "cell_type": "code",
   "execution_count": null,
   "id": "b3a3708c",
   "metadata": {
    "id": "7r2nqX97d13v",
    "outputId": "52bb5b0f-5b39-45c1-e814-2173932e0337",
    "papermill": {
     "duration": 0.014298,
     "end_time": "2023-03-14T00:19:11.167415",
     "exception": false,
     "start_time": "2023-03-14T00:19:11.153117",
     "status": "completed"
    },
    "tags": []
   },
   "outputs": [],
   "source": []
  },
  {
   "cell_type": "code",
   "execution_count": null,
   "id": "c3186b04",
   "metadata": {
    "id": "__utgG4peQI4",
    "papermill": {
     "duration": 0.012663,
     "end_time": "2023-03-14T00:19:11.193759",
     "exception": false,
     "start_time": "2023-03-14T00:19:11.181096",
     "status": "completed"
    },
    "tags": []
   },
   "outputs": [],
   "source": []
  },
  {
   "cell_type": "code",
   "execution_count": 1,
   "id": "6d7db1fa",
   "metadata": {
    "execution": {
     "iopub.execute_input": "2023-03-14T00:19:11.233795Z",
     "iopub.status.busy": "2023-03-14T00:19:11.231806Z",
     "iopub.status.idle": "2023-03-14T00:19:22.746237Z",
     "shell.execute_reply": "2023-03-14T00:19:22.744985Z"
    },
    "id": "WuNg28buAJ4l",
    "outputId": "04138439-37e5-4dc4-db0d-5200ed1fa2ab",
    "papermill": {
     "duration": 11.542591,
     "end_time": "2023-03-14T00:19:22.748981",
     "exception": false,
     "start_time": "2023-03-14T00:19:11.206390",
     "status": "completed"
    },
    "tags": []
   },
   "outputs": [
    {
     "name": "stdout",
     "output_type": "stream",
     "text": [
      "Requirement already satisfied: datasets in /opt/conda/lib/python3.7/site-packages (2.1.0)\r\n"
     ]
    },
    {
     "name": "stdout",
     "output_type": "stream",
     "text": [
      "Requirement already satisfied: pandas in /opt/conda/lib/python3.7/site-packages (from datasets) (1.3.5)\r\n",
      "Requirement already satisfied: multiprocess in /opt/conda/lib/python3.7/site-packages (from datasets) (0.70.14)\r\n",
      "Requirement already satisfied: packaging in /opt/conda/lib/python3.7/site-packages (from datasets) (23.0)\r\n",
      "Requirement already satisfied: aiohttp in /opt/conda/lib/python3.7/site-packages (from datasets) (3.8.3)\r\n",
      "Requirement already satisfied: xxhash in /opt/conda/lib/python3.7/site-packages (from datasets) (3.2.0)\r\n",
      "Requirement already satisfied: requests>=2.19.0 in /opt/conda/lib/python3.7/site-packages (from datasets) (2.28.2)\r\n",
      "Requirement already satisfied: fsspec[http]>=2021.05.0 in /opt/conda/lib/python3.7/site-packages (from datasets) (2023.1.0)\r\n",
      "Requirement already satisfied: responses<0.19 in /opt/conda/lib/python3.7/site-packages (from datasets) (0.18.0)\r\n",
      "Requirement already satisfied: dill in /opt/conda/lib/python3.7/site-packages (from datasets) (0.3.6)\r\n",
      "Requirement already satisfied: pyarrow>=5.0.0 in /opt/conda/lib/python3.7/site-packages (from datasets) (5.0.0)\r\n",
      "Requirement already satisfied: tqdm>=4.62.1 in /opt/conda/lib/python3.7/site-packages (from datasets) (4.64.1)\r\n",
      "Requirement already satisfied: importlib-metadata in /opt/conda/lib/python3.7/site-packages (from datasets) (4.11.4)\r\n",
      "Requirement already satisfied: numpy>=1.17 in /opt/conda/lib/python3.7/site-packages (from datasets) (1.21.6)\r\n",
      "Requirement already satisfied: huggingface-hub<1.0.0,>=0.1.0 in /opt/conda/lib/python3.7/site-packages (from datasets) (0.12.1)\r\n"
     ]
    },
    {
     "name": "stdout",
     "output_type": "stream",
     "text": [
      "Requirement already satisfied: typing-extensions>=3.7.4 in /opt/conda/lib/python3.7/site-packages (from aiohttp->datasets) (4.4.0)\r\n",
      "Requirement already satisfied: charset-normalizer<3.0,>=2.0 in /opt/conda/lib/python3.7/site-packages (from aiohttp->datasets) (2.1.1)\r\n",
      "Requirement already satisfied: attrs>=17.3.0 in /opt/conda/lib/python3.7/site-packages (from aiohttp->datasets) (22.2.0)\r\n",
      "Requirement already satisfied: yarl<2.0,>=1.0 in /opt/conda/lib/python3.7/site-packages (from aiohttp->datasets) (1.8.2)\r\n",
      "Requirement already satisfied: async-timeout<5.0,>=4.0.0a3 in /opt/conda/lib/python3.7/site-packages (from aiohttp->datasets) (4.0.2)\r\n"
     ]
    },
    {
     "name": "stdout",
     "output_type": "stream",
     "text": [
      "Requirement already satisfied: aiosignal>=1.1.2 in /opt/conda/lib/python3.7/site-packages (from aiohttp->datasets) (1.3.1)\r\n",
      "Requirement already satisfied: asynctest==0.13.0 in /opt/conda/lib/python3.7/site-packages (from aiohttp->datasets) (0.13.0)\r\n",
      "Requirement already satisfied: frozenlist>=1.1.1 in /opt/conda/lib/python3.7/site-packages (from aiohttp->datasets) (1.3.3)\r\n",
      "Requirement already satisfied: multidict<7.0,>=4.5 in /opt/conda/lib/python3.7/site-packages (from aiohttp->datasets) (6.0.4)\r\n"
     ]
    },
    {
     "name": "stdout",
     "output_type": "stream",
     "text": [
      "Requirement already satisfied: filelock in /opt/conda/lib/python3.7/site-packages (from huggingface-hub<1.0.0,>=0.1.0->datasets) (3.9.0)\r\n",
      "Requirement already satisfied: pyyaml>=5.1 in /opt/conda/lib/python3.7/site-packages (from huggingface-hub<1.0.0,>=0.1.0->datasets) (6.0)\r\n",
      "Requirement already satisfied: urllib3<1.27,>=1.21.1 in /opt/conda/lib/python3.7/site-packages (from requests>=2.19.0->datasets) (1.26.14)\r\n",
      "Requirement already satisfied: idna<4,>=2.5 in /opt/conda/lib/python3.7/site-packages (from requests>=2.19.0->datasets) (3.4)\r\n",
      "Requirement already satisfied: certifi>=2017.4.17 in /opt/conda/lib/python3.7/site-packages (from requests>=2.19.0->datasets) (2022.12.7)\r\n"
     ]
    },
    {
     "name": "stdout",
     "output_type": "stream",
     "text": [
      "Requirement already satisfied: zipp>=0.5 in /opt/conda/lib/python3.7/site-packages (from importlib-metadata->datasets) (3.11.0)\r\n",
      "Requirement already satisfied: python-dateutil>=2.7.3 in /opt/conda/lib/python3.7/site-packages (from pandas->datasets) (2.8.2)\r\n"
     ]
    },
    {
     "name": "stdout",
     "output_type": "stream",
     "text": [
      "Requirement already satisfied: pytz>=2017.3 in /opt/conda/lib/python3.7/site-packages (from pandas->datasets) (2022.7.1)\r\n"
     ]
    },
    {
     "name": "stdout",
     "output_type": "stream",
     "text": [
      "Requirement already satisfied: six>=1.5 in /opt/conda/lib/python3.7/site-packages (from python-dateutil>=2.7.3->pandas->datasets) (1.16.0)\r\n"
     ]
    },
    {
     "name": "stdout",
     "output_type": "stream",
     "text": [
      "\u001b[33mWARNING: Running pip as the 'root' user can result in broken permissions and conflicting behaviour with the system package manager. It is recommended to use a virtual environment instead: https://pip.pypa.io/warnings/venv\u001b[0m\u001b[33m\r\n",
      "\u001b[0m"
     ]
    }
   ],
   "source": [
    "!pip install datasets"
   ]
  },
  {
   "cell_type": "code",
   "execution_count": 2,
   "id": "f2f8d321",
   "metadata": {
    "execution": {
     "iopub.execute_input": "2023-03-14T00:19:22.777900Z",
     "iopub.status.busy": "2023-03-14T00:19:22.777590Z",
     "iopub.status.idle": "2023-03-14T00:19:32.742180Z",
     "shell.execute_reply": "2023-03-14T00:19:32.740845Z"
    },
    "id": "nWrigYkxEgIv",
    "outputId": "62b0caeb-5012-4007-deca-b1128b27723e",
    "papermill": {
     "duration": 9.981629,
     "end_time": "2023-03-14T00:19:32.744936",
     "exception": false,
     "start_time": "2023-03-14T00:19:22.763307",
     "status": "completed"
    },
    "tags": []
   },
   "outputs": [
    {
     "name": "stdout",
     "output_type": "stream",
     "text": [
      "Requirement already satisfied: transformers in /opt/conda/lib/python3.7/site-packages (4.26.1)\r\n"
     ]
    },
    {
     "name": "stdout",
     "output_type": "stream",
     "text": [
      "Requirement already satisfied: filelock in /opt/conda/lib/python3.7/site-packages (from transformers) (3.9.0)\r\n",
      "Requirement already satisfied: packaging>=20.0 in /opt/conda/lib/python3.7/site-packages (from transformers) (23.0)\r\n",
      "Requirement already satisfied: regex!=2019.12.17 in /opt/conda/lib/python3.7/site-packages (from transformers) (2021.11.10)\r\n",
      "Requirement already satisfied: huggingface-hub<1.0,>=0.11.0 in /opt/conda/lib/python3.7/site-packages (from transformers) (0.12.1)\r\n",
      "Requirement already satisfied: tqdm>=4.27 in /opt/conda/lib/python3.7/site-packages (from transformers) (4.64.1)\r\n",
      "Requirement already satisfied: numpy>=1.17 in /opt/conda/lib/python3.7/site-packages (from transformers) (1.21.6)\r\n",
      "Requirement already satisfied: pyyaml>=5.1 in /opt/conda/lib/python3.7/site-packages (from transformers) (6.0)\r\n",
      "Requirement already satisfied: importlib-metadata in /opt/conda/lib/python3.7/site-packages (from transformers) (4.11.4)\r\n",
      "Requirement already satisfied: requests in /opt/conda/lib/python3.7/site-packages (from transformers) (2.28.2)\r\n",
      "Requirement already satisfied: tokenizers!=0.11.3,<0.14,>=0.11.1 in /opt/conda/lib/python3.7/site-packages (from transformers) (0.13.2)\r\n"
     ]
    },
    {
     "name": "stdout",
     "output_type": "stream",
     "text": [
      "Requirement already satisfied: typing-extensions>=3.7.4.3 in /opt/conda/lib/python3.7/site-packages (from huggingface-hub<1.0,>=0.11.0->transformers) (4.4.0)\r\n"
     ]
    },
    {
     "name": "stdout",
     "output_type": "stream",
     "text": [
      "Requirement already satisfied: zipp>=0.5 in /opt/conda/lib/python3.7/site-packages (from importlib-metadata->transformers) (3.11.0)\r\n",
      "Requirement already satisfied: charset-normalizer<4,>=2 in /opt/conda/lib/python3.7/site-packages (from requests->transformers) (2.1.1)\r\n",
      "Requirement already satisfied: certifi>=2017.4.17 in /opt/conda/lib/python3.7/site-packages (from requests->transformers) (2022.12.7)\r\n",
      "Requirement already satisfied: urllib3<1.27,>=1.21.1 in /opt/conda/lib/python3.7/site-packages (from requests->transformers) (1.26.14)\r\n",
      "Requirement already satisfied: idna<4,>=2.5 in /opt/conda/lib/python3.7/site-packages (from requests->transformers) (3.4)\r\n"
     ]
    },
    {
     "name": "stdout",
     "output_type": "stream",
     "text": [
      "\u001b[33mWARNING: Running pip as the 'root' user can result in broken permissions and conflicting behaviour with the system package manager. It is recommended to use a virtual environment instead: https://pip.pypa.io/warnings/venv\u001b[0m\u001b[33m\r\n",
      "\u001b[0m"
     ]
    }
   ],
   "source": [
    "!pip install transformers"
   ]
  },
  {
   "cell_type": "code",
   "execution_count": 3,
   "id": "04993491",
   "metadata": {
    "execution": {
     "iopub.execute_input": "2023-03-14T00:19:32.774482Z",
     "iopub.status.busy": "2023-03-14T00:19:32.773502Z",
     "iopub.status.idle": "2023-03-14T00:19:54.413069Z",
     "shell.execute_reply": "2023-03-14T00:19:54.411983Z"
    },
    "id": "1vqXr6W8_mak",
    "outputId": "31030660-339b-46dc-a61c-26e0b9cac619",
    "papermill": {
     "duration": 21.656617,
     "end_time": "2023-03-14T00:19:54.415387",
     "exception": false,
     "start_time": "2023-03-14T00:19:32.758770",
     "status": "completed"
    },
    "tags": []
   },
   "outputs": [
    {
     "data": {
      "text/plain": [
       "device(type='cuda', index=0)"
      ]
     },
     "execution_count": 3,
     "metadata": {},
     "output_type": "execute_result"
    }
   ],
   "source": [
    "import datasets\n",
    "import seaborn as sns\n",
    "import matplotlib.pyplot as plt\n",
    "import torch\n",
    "torch.cuda.empty_cache()\n",
    "import pandas as pd\n",
    "import torch.nn.functional as F\n",
    "import numpy as np\n",
    "\n",
    "\n",
    "\n",
    "from collections import defaultdict\n",
    "from torch import  nn \n",
    "from datasets import load_dataset\n",
    "from transformers import RobertaTokenizer, RobertaModel,AdamW, get_linear_schedule_with_warmup\n",
    "from torch.utils.data import Dataset,DataLoader\n",
    "from sklearn.model_selection import train_test_split\n",
    "device = torch.device(\"cuda:0\" if torch.cuda.is_available() else \"cpu\")\n",
    "device"
   ]
  },
  {
   "cell_type": "markdown",
   "id": "1b2ca313",
   "metadata": {
    "id": "he1Q-RFqD2Wh",
    "papermill": {
     "duration": 0.013049,
     "end_time": "2023-03-14T00:19:54.442033",
     "exception": false,
     "start_time": "2023-03-14T00:19:54.428984",
     "status": "completed"
    },
    "tags": []
   },
   "source": [
    "### Load dataset"
   ]
  },
  {
   "cell_type": "code",
   "execution_count": null,
   "id": "c3ec2eee",
   "metadata": {
    "id": "bHsqMHF2fdrl",
    "papermill": {
     "duration": 0.012831,
     "end_time": "2023-03-14T00:19:54.468225",
     "exception": false,
     "start_time": "2023-03-14T00:19:54.455394",
     "status": "completed"
    },
    "tags": []
   },
   "outputs": [],
   "source": []
  },
  {
   "cell_type": "code",
   "execution_count": null,
   "id": "b46b3447",
   "metadata": {
    "id": "FyUmq7H-gl3i",
    "papermill": {
     "duration": 0.013005,
     "end_time": "2023-03-14T00:19:54.494474",
     "exception": false,
     "start_time": "2023-03-14T00:19:54.481469",
     "status": "completed"
    },
    "tags": []
   },
   "outputs": [],
   "source": []
  },
  {
   "cell_type": "code",
   "execution_count": 4,
   "id": "c863f742",
   "metadata": {
    "execution": {
     "iopub.execute_input": "2023-03-14T00:19:54.524018Z",
     "iopub.status.busy": "2023-03-14T00:19:54.522920Z",
     "iopub.status.idle": "2023-03-14T00:20:27.482979Z",
     "shell.execute_reply": "2023-03-14T00:20:27.481793Z"
    },
    "id": "RSJsjd-9_5aO",
    "outputId": "ed35bac7-e451-44b8-b7bb-086ddeced018",
    "papermill": {
     "duration": 32.978366,
     "end_time": "2023-03-14T00:20:27.486638",
     "exception": false,
     "start_time": "2023-03-14T00:19:54.508272",
     "status": "completed"
    },
    "tags": []
   },
   "outputs": [
    {
     "data": {
      "application/vnd.jupyter.widget-view+json": {
       "model_id": "c38a97b049164435a7d2dd17c2c0df9f",
       "version_major": 2,
       "version_minor": 0
      },
      "text/plain": [
       "Downloading builder script:   0%|          | 0.00/1.79k [00:00<?, ?B/s]"
      ]
     },
     "metadata": {},
     "output_type": "display_data"
    },
    {
     "data": {
      "application/vnd.jupyter.widget-view+json": {
       "model_id": "81aa810224ce46928279038066192e42",
       "version_major": 2,
       "version_minor": 0
      },
      "text/plain": [
       "Downloading metadata:   0%|          | 0.00/1.05k [00:00<?, ?B/s]"
      ]
     },
     "metadata": {},
     "output_type": "display_data"
    },
    {
     "name": "stdout",
     "output_type": "stream",
     "text": [
      "Downloading and preparing dataset imdb/plain_text (download: 80.23 MiB, generated: 127.02 MiB, post-processed: Unknown size, total: 207.25 MiB) to /root/.cache/huggingface/datasets/imdb/plain_text/1.0.0/2fdd8b9bcadd6e7055e742a706876ba43f19faee861df134affd7a3f60fc38a1...\n"
     ]
    },
    {
     "data": {
      "application/vnd.jupyter.widget-view+json": {
       "model_id": "9e4516f499564790a02f641142d6572e",
       "version_major": 2,
       "version_minor": 0
      },
      "text/plain": [
       "Downloading data:   0%|          | 0.00/84.1M [00:00<?, ?B/s]"
      ]
     },
     "metadata": {},
     "output_type": "display_data"
    },
    {
     "data": {
      "application/vnd.jupyter.widget-view+json": {
       "model_id": "e76a935da76c4ead87c4e818b59da636",
       "version_major": 2,
       "version_minor": 0
      },
      "text/plain": [
       "Generating train split:   0%|          | 0/25000 [00:00<?, ? examples/s]"
      ]
     },
     "metadata": {},
     "output_type": "display_data"
    },
    {
     "data": {
      "application/vnd.jupyter.widget-view+json": {
       "model_id": "79b0743684b24d26bdd454d176823b6d",
       "version_major": 2,
       "version_minor": 0
      },
      "text/plain": [
       "Generating test split:   0%|          | 0/25000 [00:00<?, ? examples/s]"
      ]
     },
     "metadata": {},
     "output_type": "display_data"
    },
    {
     "data": {
      "application/vnd.jupyter.widget-view+json": {
       "model_id": "54052a9b055546949881455dad6c0153",
       "version_major": 2,
       "version_minor": 0
      },
      "text/plain": [
       "Generating unsupervised split:   0%|          | 0/50000 [00:00<?, ? examples/s]"
      ]
     },
     "metadata": {},
     "output_type": "display_data"
    },
    {
     "name": "stdout",
     "output_type": "stream",
     "text": [
      "Dataset imdb downloaded and prepared to /root/.cache/huggingface/datasets/imdb/plain_text/1.0.0/2fdd8b9bcadd6e7055e742a706876ba43f19faee861df134affd7a3f60fc38a1. Subsequent calls will reuse this data.\n"
     ]
    },
    {
     "data": {
      "application/vnd.jupyter.widget-view+json": {
       "model_id": "922096089841474db0267294f472c01a",
       "version_major": 2,
       "version_minor": 0
      },
      "text/plain": [
       "  0%|          | 0/3 [00:00<?, ?it/s]"
      ]
     },
     "metadata": {},
     "output_type": "display_data"
    }
   ],
   "source": [
    "df= datasets.load_dataset('imdb')"
   ]
  },
  {
   "cell_type": "code",
   "execution_count": null,
   "id": "edfb09c3",
   "metadata": {
    "id": "YuJo5aOzA0-v",
    "papermill": {
     "duration": 0.015737,
     "end_time": "2023-03-14T00:20:27.517180",
     "exception": false,
     "start_time": "2023-03-14T00:20:27.501443",
     "status": "completed"
    },
    "tags": []
   },
   "outputs": [],
   "source": []
  },
  {
   "cell_type": "markdown",
   "id": "6014015e",
   "metadata": {
    "id": "-MQjW7zjD4r6",
    "papermill": {
     "duration": 0.013986,
     "end_time": "2023-03-14T00:20:27.545440",
     "exception": false,
     "start_time": "2023-03-14T00:20:27.531454",
     "status": "completed"
    },
    "tags": []
   },
   "source": [
    "### Data preprocessing"
   ]
  },
  {
   "cell_type": "code",
   "execution_count": 5,
   "id": "87afdb5c",
   "metadata": {
    "execution": {
     "iopub.execute_input": "2023-03-14T00:20:27.575505Z",
     "iopub.status.busy": "2023-03-14T00:20:27.575170Z",
     "iopub.status.idle": "2023-03-14T00:20:27.580050Z",
     "shell.execute_reply": "2023-03-14T00:20:27.578943Z"
    },
    "id": "5j0JAp4gBkwN",
    "papermill": {
     "duration": 0.022698,
     "end_time": "2023-03-14T00:20:27.582542",
     "exception": false,
     "start_time": "2023-03-14T00:20:27.559844",
     "status": "completed"
    },
    "tags": []
   },
   "outputs": [],
   "source": [
    "PRE_TRAINED_MODEL_NAME = 'roberta-base'"
   ]
  },
  {
   "cell_type": "code",
   "execution_count": 6,
   "id": "3eae4425",
   "metadata": {
    "execution": {
     "iopub.execute_input": "2023-03-14T00:20:27.612793Z",
     "iopub.status.busy": "2023-03-14T00:20:27.612526Z",
     "iopub.status.idle": "2023-03-14T00:20:29.333266Z",
     "shell.execute_reply": "2023-03-14T00:20:29.331984Z"
    },
    "id": "jjEl6dhDD9aY",
    "papermill": {
     "duration": 1.739008,
     "end_time": "2023-03-14T00:20:29.336078",
     "exception": false,
     "start_time": "2023-03-14T00:20:27.597070",
     "status": "completed"
    },
    "tags": []
   },
   "outputs": [
    {
     "data": {
      "application/vnd.jupyter.widget-view+json": {
       "model_id": "133b8e74c9404f4eb560f46d7c23dfc6",
       "version_major": 2,
       "version_minor": 0
      },
      "text/plain": [
       "Downloading (…)olve/main/vocab.json:   0%|          | 0.00/899k [00:00<?, ?B/s]"
      ]
     },
     "metadata": {},
     "output_type": "display_data"
    },
    {
     "data": {
      "application/vnd.jupyter.widget-view+json": {
       "model_id": "16e575f9fd1148489d447e3aad8465c8",
       "version_major": 2,
       "version_minor": 0
      },
      "text/plain": [
       "Downloading (…)olve/main/merges.txt:   0%|          | 0.00/456k [00:00<?, ?B/s]"
      ]
     },
     "metadata": {},
     "output_type": "display_data"
    },
    {
     "data": {
      "application/vnd.jupyter.widget-view+json": {
       "model_id": "940e9d31371644d2a78a944cda8b6f0e",
       "version_major": 2,
       "version_minor": 0
      },
      "text/plain": [
       "Downloading (…)lve/main/config.json:   0%|          | 0.00/481 [00:00<?, ?B/s]"
      ]
     },
     "metadata": {},
     "output_type": "display_data"
    }
   ],
   "source": [
    "tokenizer = RobertaTokenizer.from_pretrained(PRE_TRAINED_MODEL_NAME)"
   ]
  },
  {
   "cell_type": "code",
   "execution_count": 7,
   "id": "bba0e5d2",
   "metadata": {
    "execution": {
     "iopub.execute_input": "2023-03-14T00:20:29.367540Z",
     "iopub.status.busy": "2023-03-14T00:20:29.367182Z",
     "iopub.status.idle": "2023-03-14T00:20:29.372009Z",
     "shell.execute_reply": "2023-03-14T00:20:29.370939Z"
    },
    "id": "8mGOhKEMEAeU",
    "papermill": {
     "duration": 0.022828,
     "end_time": "2023-03-14T00:20:29.374190",
     "exception": false,
     "start_time": "2023-03-14T00:20:29.351362",
     "status": "completed"
    },
    "tags": []
   },
   "outputs": [],
   "source": [
    "sample_txt = 'When was I last outside? I am stuck at home for 2 weeks.'"
   ]
  },
  {
   "cell_type": "code",
   "execution_count": 8,
   "id": "7d5b24ef",
   "metadata": {
    "execution": {
     "iopub.execute_input": "2023-03-14T00:20:29.405328Z",
     "iopub.status.busy": "2023-03-14T00:20:29.404525Z",
     "iopub.status.idle": "2023-03-14T00:20:29.416027Z",
     "shell.execute_reply": "2023-03-14T00:20:29.414509Z"
    },
    "id": "ZPyOBxtUFIqI",
    "outputId": "2a0fb3e5-984e-4fa3-a96a-8ec94e4d3de0",
    "papermill": {
     "duration": 0.02933,
     "end_time": "2023-03-14T00:20:29.418364",
     "exception": false,
     "start_time": "2023-03-14T00:20:29.389034",
     "status": "completed"
    },
    "tags": []
   },
   "outputs": [
    {
     "name": "stdout",
     "output_type": "stream",
     "text": [
      " Sentence: When was I last outside? I am stuck at home for 2 weeks.\n",
      "   Tokens: ['When', 'Ġwas', 'ĠI', 'Ġlast', 'Ġoutside', '?', 'ĠI', 'Ġam', 'Ġstuck', 'Ġat', 'Ġhome', 'Ġfor', 'Ġ2', 'Ġweeks', '.']\n",
      "Token IDs: [1779, 21, 38, 94, 751, 116, 38, 524, 4889, 23, 184, 13, 132, 688, 4]\n"
     ]
    }
   ],
   "source": [
    "tokens = tokenizer.tokenize(sample_txt)\n",
    "token_ids = tokenizer.convert_tokens_to_ids(tokens)\n",
    "\n",
    "print(f' Sentence: {sample_txt}')\n",
    "print(f'   Tokens: {tokens}')\n",
    "print(f'Token IDs: {token_ids}')"
   ]
  },
  {
   "cell_type": "code",
   "execution_count": null,
   "id": "7678d3de",
   "metadata": {
    "id": "H1gQULDYFKZp",
    "papermill": {
     "duration": 0.014468,
     "end_time": "2023-03-14T00:20:29.447445",
     "exception": false,
     "start_time": "2023-03-14T00:20:29.432977",
     "status": "completed"
    },
    "tags": []
   },
   "outputs": [],
   "source": []
  },
  {
   "cell_type": "markdown",
   "id": "b1820624",
   "metadata": {
    "id": "waKjYxTDuaWt",
    "papermill": {
     "duration": 0.014369,
     "end_time": "2023-03-14T00:20:29.476574",
     "exception": false,
     "start_time": "2023-03-14T00:20:29.462205",
     "status": "completed"
    },
    "tags": []
   },
   "source": [
    "### Choosing Sequence Length\n",
    "\n",
    "BERT works with fixed-length sequences. We'll use a simple strategy to choose the max length. Let's store the token length of each review:"
   ]
  },
  {
   "cell_type": "code",
   "execution_count": null,
   "id": "27d7c613",
   "metadata": {
    "id": "mw5QbPOjGYhm",
    "papermill": {
     "duration": 0.014331,
     "end_time": "2023-03-14T00:20:29.505939",
     "exception": false,
     "start_time": "2023-03-14T00:20:29.491608",
     "status": "completed"
    },
    "tags": []
   },
   "outputs": [],
   "source": []
  },
  {
   "cell_type": "code",
   "execution_count": 9,
   "id": "dba94c03",
   "metadata": {
    "execution": {
     "iopub.execute_input": "2023-03-14T00:20:29.537477Z",
     "iopub.status.busy": "2023-03-14T00:20:29.537147Z",
     "iopub.status.idle": "2023-03-14T00:20:32.706115Z",
     "shell.execute_reply": "2023-03-14T00:20:32.705071Z"
    },
    "id": "BUnE5CT9hbeZ",
    "outputId": "f06ad312-7735-453e-c92e-b979ccde58c7",
    "papermill": {
     "duration": 3.187604,
     "end_time": "2023-03-14T00:20:32.709037",
     "exception": false,
     "start_time": "2023-03-14T00:20:29.521433",
     "status": "completed"
    },
    "tags": []
   },
   "outputs": [
    {
     "name": "stderr",
     "output_type": "stream",
     "text": [
      "Truncation was not explicitly activated but `max_length` is provided a specific value, please use `truncation=True` to explicitly truncate examples to max length. Defaulting to 'longest_first' truncation strategy. If you encode pairs of sequences (GLUE-style) with the tokenizer you can select this strategy more precisely by providing a specific strategy to `truncation`.\n"
     ]
    }
   ],
   "source": [
    "token_lens = []\n",
    "\n",
    "for txt in df['train']['text'][:1000]:\n",
    "  tokens = tokenizer.encode(txt, max_length=1024)\n",
    "  token_lens.append(len(tokens))"
   ]
  },
  {
   "cell_type": "markdown",
   "id": "96c2e46f",
   "metadata": {
    "id": "tI4goUrHf6da",
    "papermill": {
     "duration": 0.014798,
     "end_time": "2023-03-14T00:20:32.740434",
     "exception": false,
     "start_time": "2023-03-14T00:20:32.725636",
     "status": "completed"
    },
    "tags": []
   },
   "source": [
    "and plot the distribution:"
   ]
  },
  {
   "cell_type": "code",
   "execution_count": 10,
   "id": "e982e9fa",
   "metadata": {
    "execution": {
     "iopub.execute_input": "2023-03-14T00:20:32.772119Z",
     "iopub.status.busy": "2023-03-14T00:20:32.771173Z",
     "iopub.status.idle": "2023-03-14T00:20:33.119668Z",
     "shell.execute_reply": "2023-03-14T00:20:33.118737Z"
    },
    "id": "SzE1j4jxmUtd",
    "outputId": "8ef96124-735a-4d2a-976c-cefef9f48eef",
    "papermill": {
     "duration": 0.36703,
     "end_time": "2023-03-14T00:20:33.122002",
     "exception": false,
     "start_time": "2023-03-14T00:20:32.754972",
     "status": "completed"
    },
    "tags": []
   },
   "outputs": [
    {
     "name": "stderr",
     "output_type": "stream",
     "text": [
      "/opt/conda/lib/python3.7/site-packages/ipykernel_launcher.py:1: UserWarning: \n",
      "\n",
      "`distplot` is a deprecated function and will be removed in seaborn v0.14.0.\n",
      "\n",
      "Please adapt your code to use either `displot` (a figure-level function with\n",
      "similar flexibility) or `histplot` (an axes-level function for histograms).\n",
      "\n",
      "For a guide to updating your code to use the new functions, please see\n",
      "https://gist.github.com/mwaskom/de44147ed2974457ad6372750bbe5751\n",
      "\n",
      "  \"\"\"Entry point for launching an IPython kernel.\n"
     ]
    },
    {
     "data": {
      "image/png": "[encoded data removed]",
      "text/plain": [
       "<Figure size 640x480 with 1 Axes>"
      ]
     },
     "metadata": {},
     "output_type": "display_data"
    }
   ],
   "source": [
    "sns.distplot(token_lens)\n",
    "plt.xlabel('Token count');\n",
    "plt.show()"
   ]
  },
  {
   "cell_type": "markdown",
   "id": "3e6074b9",
   "metadata": {
    "id": "oW6ajl30t6du",
    "papermill": {
     "duration": 0.015228,
     "end_time": "2023-03-14T00:20:33.153109",
     "exception": false,
     "start_time": "2023-03-14T00:20:33.137881",
     "status": "completed"
    },
    "tags": []
   },
   "source": [
    "Most of the reviews seem to contain less than 400 tokens, but we'll be on the \n",
    "\n",
    "---\n",
    "\n",
    "safe side and choose a maximum length of 512."
   ]
  },
  {
   "cell_type": "code",
   "execution_count": 11,
   "id": "6af7872e",
   "metadata": {
    "execution": {
     "iopub.execute_input": "2023-03-14T00:20:33.185101Z",
     "iopub.status.busy": "2023-03-14T00:20:33.184769Z",
     "iopub.status.idle": "2023-03-14T00:20:33.189361Z",
     "shell.execute_reply": "2023-03-14T00:20:33.188317Z"
    },
    "id": "t7xSmJtLuoxW",
    "papermill": {
     "duration": 0.022834,
     "end_time": "2023-03-14T00:20:33.191468",
     "exception": false,
     "start_time": "2023-03-14T00:20:33.168634",
     "status": "completed"
    },
    "tags": []
   },
   "outputs": [],
   "source": [
    "MAX_LEN = 512"
   ]
  },
  {
   "cell_type": "markdown",
   "id": "b953d1db",
   "metadata": {
    "papermill": {
     "duration": 0.014984,
     "end_time": "2023-03-14T00:20:33.221434",
     "exception": false,
     "start_time": "2023-03-14T00:20:33.206450",
     "status": "completed"
    },
    "tags": []
   },
   "source": [
    "### Building a sentiment classifier"
   ]
  },
  {
   "cell_type": "markdown",
   "id": "f620f696",
   "metadata": {
    "id": "XvvcoU6nurHy",
    "papermill": {
     "duration": 0.015017,
     "end_time": "2023-03-14T00:20:33.251773",
     "exception": false,
     "start_time": "2023-03-14T00:20:33.236756",
     "status": "completed"
    },
    "tags": []
   },
   "source": [
    "We have all building blocks required to create a PyTorch dataset. Let's do it:"
   ]
  },
  {
   "cell_type": "code",
   "execution_count": 12,
   "id": "fd69d8ac",
   "metadata": {
    "execution": {
     "iopub.execute_input": "2023-03-14T00:20:33.283559Z",
     "iopub.status.busy": "2023-03-14T00:20:33.283258Z",
     "iopub.status.idle": "2023-03-14T00:20:33.291296Z",
     "shell.execute_reply": "2023-03-14T00:20:33.290254Z"
    },
    "id": "E2BPgRJ7YBK0",
    "papermill": {
     "duration": 0.026455,
     "end_time": "2023-03-14T00:20:33.293522",
     "exception": false,
     "start_time": "2023-03-14T00:20:33.267067",
     "status": "completed"
    },
    "tags": []
   },
   "outputs": [],
   "source": [
    "class GPReviewDataset(Dataset):\n",
    "\n",
    "  def __init__(self, reviews, targets, tokenizer, max_len):\n",
    "    self.reviews = reviews\n",
    "    self.targets = targets\n",
    "    self.tokenizer = tokenizer\n",
    "    self.max_len = max_len\n",
    "  \n",
    "  def __len__(self):\n",
    "    return len(self.reviews)\n",
    "  \n",
    "  def __getitem__(self, item):\n",
    "    review = str(self.reviews[item])\n",
    "    target = self.targets[item]\n",
    "\n",
    "    encoding = self.tokenizer.encode_plus(\n",
    "      review,\n",
    "      add_special_tokens=True,\n",
    "      max_length=self.max_len,\n",
    "      return_token_type_ids=False,\n",
    "      pad_to_max_length=True,\n",
    "      return_attention_mask=True,\n",
    "      return_tensors='pt',\n",
    "    )\n",
    "\n",
    "    return {\n",
    "      'review_text': review,\n",
    "      'input_ids': encoding['input_ids'].flatten(),\n",
    "      'attention_mask': encoding['attention_mask'].flatten(),\n",
    "      'targets': torch.tensor(target, dtype=torch.long)\n",
    "    }"
   ]
  },
  {
   "cell_type": "markdown",
   "id": "c75c25b7",
   "metadata": {
    "id": "x2uwsvCYqDJK",
    "papermill": {
     "duration": 0.015294,
     "end_time": "2023-03-14T00:20:33.324390",
     "exception": false,
     "start_time": "2023-03-14T00:20:33.309096",
     "status": "completed"
    },
    "tags": []
   },
   "source": [
    "The tokenizer is doing most of the heavy lifting for us. We also return the review texts, so it'll be easier to evaluate the predictions from our model. Let's split the data:"
   ]
  },
  {
   "cell_type": "code",
   "execution_count": null,
   "id": "3f9d6f89",
   "metadata": {
    "id": "TUf6z8N-OqZg",
    "papermill": {
     "duration": 0.017053,
     "end_time": "2023-03-14T00:20:33.357457",
     "exception": false,
     "start_time": "2023-03-14T00:20:33.340404",
     "status": "completed"
    },
    "tags": []
   },
   "outputs": [],
   "source": []
  },
  {
   "cell_type": "code",
   "execution_count": 13,
   "id": "858ec973",
   "metadata": {
    "execution": {
     "iopub.execute_input": "2023-03-14T00:20:33.392671Z",
     "iopub.status.busy": "2023-03-14T00:20:33.392311Z",
     "iopub.status.idle": "2023-03-14T00:20:36.261270Z",
     "shell.execute_reply": "2023-03-14T00:20:36.260246Z"
    },
    "id": "g9luaKnWOi8J",
    "papermill": {
     "duration": 2.889801,
     "end_time": "2023-03-14T00:20:36.263923",
     "exception": false,
     "start_time": "2023-03-14T00:20:33.374122",
     "status": "completed"
    },
    "tags": []
   },
   "outputs": [],
   "source": [
    "df_train = pd.DataFrame(df['train'] )\n",
    "df_test=pd.DataFrame(df['test'] )\n",
    "df=pd.concat([df_train,df_test],axis=0)"
   ]
  },
  {
   "cell_type": "code",
   "execution_count": null,
   "id": "46d2a0f4",
   "metadata": {
    "id": "-Dg_1gL6kcUE",
    "papermill": {
     "duration": 0.014909,
     "end_time": "2023-03-14T00:20:36.294807",
     "exception": false,
     "start_time": "2023-03-14T00:20:36.279898",
     "status": "completed"
    },
    "tags": []
   },
   "outputs": [],
   "source": []
  },
  {
   "cell_type": "code",
   "execution_count": 14,
   "id": "0a2897d4",
   "metadata": {
    "execution": {
     "iopub.execute_input": "2023-03-14T00:20:36.327744Z",
     "iopub.status.busy": "2023-03-14T00:20:36.327356Z",
     "iopub.status.idle": "2023-03-14T00:20:36.343704Z",
     "shell.execute_reply": "2023-03-14T00:20:36.342755Z"
    },
    "id": "B-vWzoo81dvO",
    "papermill": {
     "duration": 0.035871,
     "end_time": "2023-03-14T00:20:36.345893",
     "exception": false,
     "start_time": "2023-03-14T00:20:36.310022",
     "status": "completed"
    },
    "tags": []
   },
   "outputs": [],
   "source": [
    "\n",
    "df_train, df_test = train_test_split(df, test_size=0.1, random_state=42)\n",
    "df_val, df_test = train_test_split(df_test, test_size=0.5, random_state=42)"
   ]
  },
  {
   "cell_type": "code",
   "execution_count": 15,
   "id": "656eb7b9",
   "metadata": {
    "execution": {
     "iopub.execute_input": "2023-03-14T00:20:36.377871Z",
     "iopub.status.busy": "2023-03-14T00:20:36.377552Z",
     "iopub.status.idle": "2023-03-14T00:20:36.383790Z",
     "shell.execute_reply": "2023-03-14T00:20:36.382818Z"
    },
    "id": "xz3ZOQXVPCwh",
    "outputId": "6010889d-fc4e-4db0-9499-33cba262fd19",
    "papermill": {
     "duration": 0.02458,
     "end_time": "2023-03-14T00:20:36.385831",
     "exception": false,
     "start_time": "2023-03-14T00:20:36.361251",
     "status": "completed"
    },
    "tags": []
   },
   "outputs": [
    {
     "data": {
      "text/plain": [
       "((45000, 2), (2500, 2), (2500, 2))"
      ]
     },
     "execution_count": 15,
     "metadata": {},
     "output_type": "execute_result"
    }
   ],
   "source": [
    "df_train.shape, df_val.shape, df_test.shape"
   ]
  },
  {
   "cell_type": "markdown",
   "id": "584ccb05",
   "metadata": {
    "id": "J4tQ1x-vqNab",
    "papermill": {
     "duration": 0.01493,
     "end_time": "2023-03-14T00:20:36.416246",
     "exception": false,
     "start_time": "2023-03-14T00:20:36.401316",
     "status": "completed"
    },
    "tags": []
   },
   "source": [
    "We also need to create a couple of data loaders. Here's a helper function to do it:"
   ]
  },
  {
   "cell_type": "code",
   "execution_count": 16,
   "id": "298671cd",
   "metadata": {
    "execution": {
     "iopub.execute_input": "2023-03-14T00:20:36.449031Z",
     "iopub.status.busy": "2023-03-14T00:20:36.448175Z",
     "iopub.status.idle": "2023-03-14T00:20:36.453823Z",
     "shell.execute_reply": "2023-03-14T00:20:36.452833Z"
    },
    "id": "KEGqcvkuOuTX",
    "papermill": {
     "duration": 0.02424,
     "end_time": "2023-03-14T00:20:36.456056",
     "exception": false,
     "start_time": "2023-03-14T00:20:36.431816",
     "status": "completed"
    },
    "tags": []
   },
   "outputs": [],
   "source": [
    "def create_data_loader(df, tokenizer, max_len, batch_size):\n",
    "  ds = GPReviewDataset(\n",
    "    reviews=df.text.to_numpy(),\n",
    "    targets=df.label.to_numpy(),\n",
    "    tokenizer=tokenizer,\n",
    "    max_len=max_len\n",
    "  )\n",
    "\n",
    "  return DataLoader(\n",
    "    ds,\n",
    "    batch_size=batch_size,\n",
    "    num_workers=4\n",
    "  )"
   ]
  },
  {
   "cell_type": "code",
   "execution_count": 17,
   "id": "541d054a",
   "metadata": {
    "execution": {
     "iopub.execute_input": "2023-03-14T00:20:36.489086Z",
     "iopub.status.busy": "2023-03-14T00:20:36.488178Z",
     "iopub.status.idle": "2023-03-14T00:20:36.499630Z",
     "shell.execute_reply": "2023-03-14T00:20:36.498593Z"
    },
    "id": "vODDxMKsPHqI",
    "papermill": {
     "duration": 0.030783,
     "end_time": "2023-03-14T00:20:36.502709",
     "exception": false,
     "start_time": "2023-03-14T00:20:36.471926",
     "status": "completed"
    },
    "tags": []
   },
   "outputs": [
    {
     "name": "stderr",
     "output_type": "stream",
     "text": [
      "/opt/conda/lib/python3.7/site-packages/torch/utils/data/dataloader.py:557: UserWarning: This DataLoader will create 4 worker processes in total. Our suggested max number of worker in current system is 2, which is smaller than what this DataLoader is going to create. Please be aware that excessive worker creation might get DataLoader running slow or even freeze, lower the worker number to avoid potential slowness/freeze if necessary.\n",
      "  cpuset_checked))\n"
     ]
    }
   ],
   "source": [
    "BATCH_SIZE = 16\n",
    "train_data_loader = create_data_loader(df_train, tokenizer, MAX_LEN, BATCH_SIZE)\n",
    "val_data_loader = create_data_loader(df_val, tokenizer, MAX_LEN, BATCH_SIZE)\n",
    "test_data_loader = create_data_loader(df_test, tokenizer, MAX_LEN, BATCH_SIZE)"
   ]
  },
  {
   "cell_type": "markdown",
   "id": "f3778adf",
   "metadata": {
    "id": "A6dlOptwqlhF",
    "papermill": {
     "duration": 0.015092,
     "end_time": "2023-03-14T00:20:36.534184",
     "exception": false,
     "start_time": "2023-03-14T00:20:36.519092",
     "status": "completed"
    },
    "tags": []
   },
   "source": [
    "Let's have a look at an example batch from our training data loader:"
   ]
  },
  {
   "cell_type": "code",
   "execution_count": 18,
   "id": "0d7cf977",
   "metadata": {
    "execution": {
     "iopub.execute_input": "2023-03-14T00:20:36.566828Z",
     "iopub.status.busy": "2023-03-14T00:20:36.566539Z",
     "iopub.status.idle": "2023-03-14T00:20:37.137350Z",
     "shell.execute_reply": "2023-03-14T00:20:37.135970Z"
    },
    "id": "Y93ldSN47FeT",
    "outputId": "53edb531-ae6b-40e9-e4e9-4633badc7457",
    "papermill": {
     "duration": 0.590634,
     "end_time": "2023-03-14T00:20:37.140265",
     "exception": false,
     "start_time": "2023-03-14T00:20:36.549631",
     "status": "completed"
    },
    "tags": []
   },
   "outputs": [
    {
     "name": "stderr",
     "output_type": "stream",
     "text": [
      "/opt/conda/lib/python3.7/site-packages/transformers/tokenization_utils_base.py:2345: FutureWarning: The `pad_to_max_length` argument is deprecated and will be removed in a future version, use `padding=True` or `padding='longest'` to pad to the longest sequence in the batch, or use `padding='max_length'` to pad to a max length. In this case, you can give a specific length with `max_length` (e.g. `max_length=45`) or leave max_length to None to pad to the maximal input size of the model (e.g. 512 for Bert).\n",
      "  FutureWarning,\n"
     ]
    },
    {
     "name": "stderr",
     "output_type": "stream",
     "text": [
      "/opt/conda/lib/python3.7/site-packages/transformers/tokenization_utils_base.py:2345: FutureWarning: The `pad_to_max_length` argument is deprecated and will be removed in a future version, use `padding=True` or `padding='longest'` to pad to the longest sequence in the batch, or use `padding='max_length'` to pad to a max length. In this case, you can give a specific length with `max_length` (e.g. `max_length=45`) or leave max_length to None to pad to the maximal input size of the model (e.g. 512 for Bert).\n",
      "  FutureWarning,\n"
     ]
    },
    {
     "name": "stderr",
     "output_type": "stream",
     "text": [
      "/opt/conda/lib/python3.7/site-packages/transformers/tokenization_utils_base.py:2345: FutureWarning: The `pad_to_max_length` argument is deprecated and will be removed in a future version, use `padding=True` or `padding='longest'` to pad to the longest sequence in the batch, or use `padding='max_length'` to pad to a max length. In this case, you can give a specific length with `max_length` (e.g. `max_length=45`) or leave max_length to None to pad to the maximal input size of the model (e.g. 512 for Bert).\n",
      "  FutureWarning,\n"
     ]
    },
    {
     "name": "stderr",
     "output_type": "stream",
     "text": [
      "/opt/conda/lib/python3.7/site-packages/transformers/tokenization_utils_base.py:2345: FutureWarning: The `pad_to_max_length` argument is deprecated and will be removed in a future version, use `padding=True` or `padding='longest'` to pad to the longest sequence in the batch, or use `padding='max_length'` to pad to a max length. In this case, you can give a specific length with `max_length` (e.g. `max_length=45`) or leave max_length to None to pad to the maximal input size of the model (e.g. 512 for Bert).\n",
      "  FutureWarning,\n"
     ]
    },
    {
     "data": {
      "text/plain": [
       "dict_keys(['review_text', 'input_ids', 'attention_mask', 'targets'])"
      ]
     },
     "execution_count": 18,
     "metadata": {},
     "output_type": "execute_result"
    }
   ],
   "source": [
    "data = next(iter(train_data_loader))\n",
    "data.keys()"
   ]
  },
  {
   "cell_type": "code",
   "execution_count": 19,
   "id": "787c6488",
   "metadata": {
    "execution": {
     "iopub.execute_input": "2023-03-14T00:20:37.177217Z",
     "iopub.status.busy": "2023-03-14T00:20:37.175346Z",
     "iopub.status.idle": "2023-03-14T00:20:37.182854Z",
     "shell.execute_reply": "2023-03-14T00:20:37.181277Z"
    },
    "id": "IdU4YVqb7N8M",
    "outputId": "d213aeb7-a41a-4634-cb7d-dd1751290327",
    "papermill": {
     "duration": 0.027817,
     "end_time": "2023-03-14T00:20:37.185031",
     "exception": false,
     "start_time": "2023-03-14T00:20:37.157214",
     "status": "completed"
    },
    "tags": []
   },
   "outputs": [
    {
     "name": "stdout",
     "output_type": "stream",
     "text": [
      "torch.Size([16, 512])\n",
      "torch.Size([16, 512])\n",
      "torch.Size([16])\n"
     ]
    }
   ],
   "source": [
    "print(data['input_ids'].shape)\n",
    "print(data['attention_mask'].shape)\n",
    "print(data['targets'].shape)"
   ]
  },
  {
   "cell_type": "markdown",
   "id": "e2361bfc",
   "metadata": {
    "id": "KUa5Xtt5QR2D",
    "papermill": {
     "duration": 0.017685,
     "end_time": "2023-03-14T00:20:37.219090",
     "exception": false,
     "start_time": "2023-03-14T00:20:37.201405",
     "status": "completed"
    },
    "tags": []
   },
   "source": [
    "### Sentiment classification with Bert"
   ]
  },
  {
   "cell_type": "code",
   "execution_count": 20,
   "id": "1c7c6c14",
   "metadata": {
    "execution": {
     "iopub.execute_input": "2023-03-14T00:20:37.252383Z",
     "iopub.status.busy": "2023-03-14T00:20:37.251546Z",
     "iopub.status.idle": "2023-03-14T00:20:47.507150Z",
     "shell.execute_reply": "2023-03-14T00:20:47.506033Z"
    },
    "id": "OO2a3yjVQEgb",
    "outputId": "f3f178af-9d37-4e9e-e5c9-63f8dc37d99d",
    "papermill": {
     "duration": 10.275021,
     "end_time": "2023-03-14T00:20:47.509786",
     "exception": false,
     "start_time": "2023-03-14T00:20:37.234765",
     "status": "completed"
    },
    "tags": []
   },
   "outputs": [
    {
     "data": {
      "application/vnd.jupyter.widget-view+json": {
       "model_id": "9c85d33b59ea46f7a5e1b103aa89e063",
       "version_major": 2,
       "version_minor": 0
      },
      "text/plain": [
       "Downloading (…)\"pytorch_model.bin\";:   0%|          | 0.00/501M [00:00<?, ?B/s]"
      ]
     },
     "metadata": {},
     "output_type": "display_data"
    },
    {
     "name": "stderr",
     "output_type": "stream",
     "text": [
      "Some weights of the model checkpoint at roberta-base were not used when initializing RobertaModel: ['lm_head.decoder.weight', 'lm_head.layer_norm.weight', 'lm_head.bias', 'lm_head.dense.bias', 'lm_head.layer_norm.bias', 'lm_head.dense.weight']\n",
      "- This IS expected if you are initializing RobertaModel from the checkpoint of a model trained on another task or with another architecture (e.g. initializing a BertForSequenceClassification model from a BertForPreTraining model).\n",
      "- This IS NOT expected if you are initializing RobertaModel from the checkpoint of a model that you expect to be exactly identical (initializing a BertForSequenceClassification model from a BertForSequenceClassification model).\n"
     ]
    }
   ],
   "source": [
    "robert_model = RobertaModel.from_pretrained(PRE_TRAINED_MODEL_NAME)"
   ]
  },
  {
   "cell_type": "code",
   "execution_count": 21,
   "id": "03a720fc",
   "metadata": {
    "execution": {
     "iopub.execute_input": "2023-03-14T00:20:47.547289Z",
     "iopub.status.busy": "2023-03-14T00:20:47.546969Z",
     "iopub.status.idle": "2023-03-14T00:20:47.936232Z",
     "shell.execute_reply": "2023-03-14T00:20:47.935149Z"
    },
    "id": "1jaTDiCPQmBU",
    "outputId": "14a0a812-3bf2-4b09-902b-59e918f4e304",
    "papermill": {
     "duration": 0.411221,
     "end_time": "2023-03-14T00:20:47.939278",
     "exception": false,
     "start_time": "2023-03-14T00:20:47.528057",
     "status": "completed"
    },
    "tags": []
   },
   "outputs": [
    {
     "name": "stderr",
     "output_type": "stream",
     "text": [
      "/opt/conda/lib/python3.7/site-packages/transformers/tokenization_utils_base.py:2345: FutureWarning: The `pad_to_max_length` argument is deprecated and will be removed in a future version, use `padding=True` or `padding='longest'` to pad to the longest sequence in the batch, or use `padding='max_length'` to pad to a max length. In this case, you can give a specific length with `max_length` (e.g. `max_length=45`) or leave max_length to None to pad to the maximal input size of the model (e.g. 512 for Bert).\n",
      "  FutureWarning,\n"
     ]
    }
   ],
   "source": [
    "encoding = tokenizer.encode_plus(\n",
    "  sample_txt,\n",
    "  max_length=32,\n",
    "  add_special_tokens=True, # Add '[CLS]' and '[SEP]'\n",
    "  return_token_type_ids=False,\n",
    "  pad_to_max_length=True,\n",
    "  return_attention_mask=True,\n",
    "  return_tensors='pt',  # Return PyTorch tensors\n",
    ")\n",
    "last_hidden_state, pooled_output = robert_model(\n",
    "  input_ids=encoding['input_ids'], \n",
    "  attention_mask=encoding['attention_mask']\n",
    ")"
   ]
  },
  {
   "cell_type": "code",
   "execution_count": 22,
   "id": "9aca6152",
   "metadata": {
    "execution": {
     "iopub.execute_input": "2023-03-14T00:20:47.981416Z",
     "iopub.status.busy": "2023-03-14T00:20:47.981081Z",
     "iopub.status.idle": "2023-03-14T00:20:47.989066Z",
     "shell.execute_reply": "2023-03-14T00:20:47.987910Z"
    },
    "id": "a0wCXYEcRHhG",
    "papermill": {
     "duration": 0.032592,
     "end_time": "2023-03-14T00:20:47.992822",
     "exception": false,
     "start_time": "2023-03-14T00:20:47.960230",
     "status": "completed"
    },
    "tags": []
   },
   "outputs": [],
   "source": [
    "class SentimentClassifier(nn.Module):\n",
    "\n",
    "  def __init__(self, n_classes):\n",
    "    super(SentimentClassifier, self).__init__()\n",
    "    self.bert = RobertaModel.from_pretrained(PRE_TRAINED_MODEL_NAME,return_dict=False)\n",
    "    self.drop = nn.Dropout(p=0.3)\n",
    "    self.out = nn.Linear(self.bert.config.hidden_size, n_classes)\n",
    "  \n",
    "  def forward(self, input_ids, attention_mask):\n",
    "    _, pooled_output = self.bert(\n",
    "      input_ids=input_ids,\n",
    "      attention_mask=attention_mask\n",
    "    )\n",
    "    output = self.drop(pooled_output)\n",
    "    return self.out(output)"
   ]
  },
  {
   "cell_type": "code",
   "execution_count": 23,
   "id": "0e826268",
   "metadata": {
    "execution": {
     "iopub.execute_input": "2023-03-14T00:20:48.030206Z",
     "iopub.status.busy": "2023-03-14T00:20:48.029883Z",
     "iopub.status.idle": "2023-03-14T00:20:56.747749Z",
     "shell.execute_reply": "2023-03-14T00:20:56.746629Z"
    },
    "id": "nb7ZQg3YRbeT",
    "outputId": "2dbc7dab-7cb2-49b4-bb82-57fe5ba9edf7",
    "papermill": {
     "duration": 8.739407,
     "end_time": "2023-03-14T00:20:56.750669",
     "exception": false,
     "start_time": "2023-03-14T00:20:48.011262",
     "status": "completed"
    },
    "tags": []
   },
   "outputs": [
    {
     "name": "stderr",
     "output_type": "stream",
     "text": [
      "Some weights of the model checkpoint at roberta-base were not used when initializing RobertaModel: ['lm_head.decoder.weight', 'lm_head.layer_norm.weight', 'lm_head.bias', 'lm_head.dense.bias', 'lm_head.layer_norm.bias', 'lm_head.dense.weight']\n",
      "- This IS expected if you are initializing RobertaModel from the checkpoint of a model trained on another task or with another architecture (e.g. initializing a BertForSequenceClassification model from a BertForPreTraining model).\n",
      "- This IS NOT expected if you are initializing RobertaModel from the checkpoint of a model that you expect to be exactly identical (initializing a BertForSequenceClassification model from a BertForSequenceClassification model).\n"
     ]
    }
   ],
   "source": [
    "model = SentimentClassifier(2)\n",
    "model = model.to(device)"
   ]
  },
  {
   "cell_type": "code",
   "execution_count": 24,
   "id": "49c7de1b",
   "metadata": {
    "execution": {
     "iopub.execute_input": "2023-03-14T00:20:56.785257Z",
     "iopub.status.busy": "2023-03-14T00:20:56.784305Z",
     "iopub.status.idle": "2023-03-14T00:20:56.791549Z",
     "shell.execute_reply": "2023-03-14T00:20:56.790240Z"
    },
    "id": "NXR--TG1SHnx",
    "outputId": "db642371-d2ab-407f-942b-61206cb806de",
    "papermill": {
     "duration": 0.026664,
     "end_time": "2023-03-14T00:20:56.793805",
     "exception": false,
     "start_time": "2023-03-14T00:20:56.767141",
     "status": "completed"
    },
    "tags": []
   },
   "outputs": [
    {
     "name": "stdout",
     "output_type": "stream",
     "text": [
      "torch.Size([16, 512])\n",
      "torch.Size([16, 512])\n"
     ]
    }
   ],
   "source": [
    "input_ids = data['input_ids'].to(device)\n",
    "attention_mask = data['attention_mask'].to(device)\n",
    "\n",
    "print(input_ids.shape) # batch size x seq length\n",
    "print(attention_mask.shape) # batch size x seq length"
   ]
  },
  {
   "cell_type": "code",
   "execution_count": null,
   "id": "d18c7dfb",
   "metadata": {
    "id": "w_MVfc5ud0GJ",
    "papermill": {
     "duration": 0.015558,
     "end_time": "2023-03-14T00:20:56.825767",
     "exception": false,
     "start_time": "2023-03-14T00:20:56.810209",
     "status": "completed"
    },
    "tags": []
   },
   "outputs": [],
   "source": []
  },
  {
   "cell_type": "markdown",
   "id": "7c849285",
   "metadata": {
    "id": "ps8S62IJUbDy",
    "papermill": {
     "duration": 0.016151,
     "end_time": "2023-03-14T00:20:56.858268",
     "exception": false,
     "start_time": "2023-03-14T00:20:56.842117",
     "status": "completed"
    },
    "tags": []
   },
   "source": [
    "We can show the softmax that we will use for our ODD detection"
   ]
  },
  {
   "cell_type": "code",
   "execution_count": 25,
   "id": "d4d85858",
   "metadata": {
    "execution": {
     "iopub.execute_input": "2023-03-14T00:20:56.892314Z",
     "iopub.status.busy": "2023-03-14T00:20:56.891397Z",
     "iopub.status.idle": "2023-03-14T00:20:56.896154Z",
     "shell.execute_reply": "2023-03-14T00:20:56.895229Z"
    },
    "id": "17mL4rA3S4zN",
    "papermill": {
     "duration": 0.023783,
     "end_time": "2023-03-14T00:20:56.898091",
     "exception": false,
     "start_time": "2023-03-14T00:20:56.874308",
     "status": "completed"
    },
    "tags": []
   },
   "outputs": [],
   "source": [
    "# F.softmax(model(input_ids, attention_mask), dim=1)"
   ]
  },
  {
   "cell_type": "code",
   "execution_count": null,
   "id": "df2a3ea0",
   "metadata": {
    "id": "dllmO-t_TGif",
    "papermill": {
     "duration": 0.015974,
     "end_time": "2023-03-14T00:20:56.930192",
     "exception": false,
     "start_time": "2023-03-14T00:20:56.914218",
     "status": "completed"
    },
    "tags": []
   },
   "outputs": [],
   "source": []
  },
  {
   "cell_type": "markdown",
   "id": "98febb20",
   "metadata": {
    "id": "g9xikRdtRN1N",
    "papermill": {
     "duration": 0.016346,
     "end_time": "2023-03-14T00:20:56.963157",
     "exception": false,
     "start_time": "2023-03-14T00:20:56.946811",
     "status": "completed"
    },
    "tags": []
   },
   "source": [
    "### Training"
   ]
  },
  {
   "cell_type": "markdown",
   "id": "544809e3",
   "metadata": {
    "id": "76g7FV85H-T8",
    "papermill": {
     "duration": 0.016217,
     "end_time": "2023-03-14T00:20:56.996458",
     "exception": false,
     "start_time": "2023-03-14T00:20:56.980241",
     "status": "completed"
    },
    "tags": []
   },
   "source": [
    "To reproduce the training procedure from the BERT paper, we'll use the [AdamW](https://huggingface.co/transformers/main_classes/optimizer_schedules.html#adamw) optimizer provided by Hugging Face. It corrects weight decay, so it's similar to the original paper. We'll also use a linear scheduler with no warmup steps:"
   ]
  },
  {
   "cell_type": "code",
   "execution_count": 26,
   "id": "3f35669e",
   "metadata": {
    "execution": {
     "iopub.execute_input": "2023-03-14T00:20:57.030506Z",
     "iopub.status.busy": "2023-03-14T00:20:57.029554Z",
     "iopub.status.idle": "2023-03-14T00:20:57.056963Z",
     "shell.execute_reply": "2023-03-14T00:20:57.055588Z"
    },
    "id": "5v-ArJ2fCCcU",
    "outputId": "133b968f-1941-4bf7-becc-e7856adc6d21",
    "papermill": {
     "duration": 0.04655,
     "end_time": "2023-03-14T00:20:57.059170",
     "exception": false,
     "start_time": "2023-03-14T00:20:57.012620",
     "status": "completed"
    },
    "tags": []
   },
   "outputs": [
    {
     "name": "stderr",
     "output_type": "stream",
     "text": [
      "/opt/conda/lib/python3.7/site-packages/transformers/optimization.py:310: FutureWarning: This implementation of AdamW is deprecated and will be removed in a future version. Use the PyTorch implementation torch.optim.AdamW instead, or set `no_deprecation_warning=True` to disable this warning\n",
      "  FutureWarning,\n"
     ]
    }
   ],
   "source": [
    "\n",
    "EPOCHS = 10\n",
    "\n",
    "optimizer = AdamW(model.parameters(), lr=2e-5, correct_bias=False)\n",
    "total_steps = len(train_data_loader) * EPOCHS\n",
    "\n",
    "scheduler = get_linear_schedule_with_warmup(\n",
    "  optimizer,\n",
    "  num_warmup_steps=0,\n",
    "  num_training_steps=total_steps\n",
    ")\n",
    "\n",
    "loss_fn = nn.CrossEntropyLoss().to(device)"
   ]
  },
  {
   "cell_type": "code",
   "execution_count": 27,
   "id": "f8f23558",
   "metadata": {
    "execution": {
     "iopub.execute_input": "2023-03-14T00:20:57.094570Z",
     "iopub.status.busy": "2023-03-14T00:20:57.093625Z",
     "iopub.status.idle": "2023-03-14T00:20:57.102822Z",
     "shell.execute_reply": "2023-03-14T00:20:57.101938Z"
    },
    "id": "bzl9UhuNx1_Q",
    "papermill": {
     "duration": 0.029254,
     "end_time": "2023-03-14T00:20:57.104931",
     "exception": false,
     "start_time": "2023-03-14T00:20:57.075677",
     "status": "completed"
    },
    "tags": []
   },
   "outputs": [],
   "source": [
    "\n",
    "def train_epoch(\n",
    "  model, \n",
    "  data_loader, \n",
    "  loss_fn, \n",
    "  optimizer, \n",
    "  device, \n",
    "  scheduler, \n",
    "  n_examples\n",
    "):\n",
    "  model = model.train()\n",
    "\n",
    "  losses = []\n",
    "  correct_predictions = 0\n",
    "  \n",
    "  for d in data_loader:\n",
    "    input_ids = d[\"input_ids\"].to(device)\n",
    "    attention_mask = d[\"attention_mask\"].to(device)\n",
    "    targets = d[\"targets\"].to(device)\n",
    "\n",
    "    outputs = model(\n",
    "      input_ids=input_ids,\n",
    "      attention_mask=attention_mask\n",
    "    )\n",
    "\n",
    "    _, preds = torch.max(outputs, dim=1)\n",
    "    loss = loss_fn(outputs, targets)\n",
    "\n",
    "    correct_predictions += torch.sum(preds == targets)\n",
    "    losses.append(loss.item())\n",
    "\n",
    "    loss.backward()\n",
    "    nn.utils.clip_grad_norm_(model.parameters(), max_norm=1.0)\n",
    "    optimizer.step()\n",
    "    scheduler.step()\n",
    "    optimizer.zero_grad()\n",
    "\n",
    "  return correct_predictions.double() / n_examples, np.mean(losses)"
   ]
  },
  {
   "cell_type": "markdown",
   "id": "e31e0bc5",
   "metadata": {
    "id": "E4PniYIte0fr",
    "papermill": {
     "duration": 0.016019,
     "end_time": "2023-03-14T00:20:57.137004",
     "exception": false,
     "start_time": "2023-03-14T00:20:57.120985",
     "status": "completed"
    },
    "tags": []
   },
   "source": [
    ":"
   ]
  },
  {
   "cell_type": "markdown",
   "id": "d83ab04e",
   "metadata": {
    "papermill": {
     "duration": 0.016165,
     "end_time": "2023-03-14T00:20:57.169580",
     "exception": false,
     "start_time": "2023-03-14T00:20:57.153415",
     "status": "completed"
    },
    "tags": []
   },
   "source": [
    "### Evaluation of model"
   ]
  },
  {
   "cell_type": "code",
   "execution_count": 28,
   "id": "79a24dee",
   "metadata": {
    "execution": {
     "iopub.execute_input": "2023-03-14T00:20:57.203412Z",
     "iopub.status.busy": "2023-03-14T00:20:57.203117Z",
     "iopub.status.idle": "2023-03-14T00:20:57.210092Z",
     "shell.execute_reply": "2023-03-14T00:20:57.208843Z"
    },
    "id": "CXeRorVGIKre",
    "papermill": {
     "duration": 0.026267,
     "end_time": "2023-03-14T00:20:57.212093",
     "exception": false,
     "start_time": "2023-03-14T00:20:57.185826",
     "status": "completed"
    },
    "tags": []
   },
   "outputs": [],
   "source": [
    "def eval_model(model, data_loader, loss_fn, device, n_examples):\n",
    "  model = model.eval()\n",
    "\n",
    "  losses = []\n",
    "  correct_predictions = 0\n",
    "\n",
    "  with torch.no_grad():\n",
    "    for d in data_loader:\n",
    "      input_ids = d[\"input_ids\"].to(device)\n",
    "      attention_mask = d[\"attention_mask\"].to(device)\n",
    "      targets = d[\"targets\"].to(device)\n",
    "\n",
    "      outputs = model(\n",
    "        input_ids=input_ids,\n",
    "        attention_mask=attention_mask\n",
    "      )\n",
    "      _, preds = torch.max(outputs, dim=1)\n",
    "\n",
    "      loss = loss_fn(outputs, targets)\n",
    "\n",
    "      correct_predictions += torch.sum(preds == targets)\n",
    "      losses.append(loss.item())\n",
    "\n",
    "  return correct_predictions.double() / n_examples, np.mean(losses)"
   ]
  },
  {
   "cell_type": "markdown",
   "id": "075a1194",
   "metadata": {
    "id": "a_rdSDBHhhCh",
    "papermill": {
     "duration": 0.016002,
     "end_time": "2023-03-14T00:20:57.245749",
     "exception": false,
     "start_time": "2023-03-14T00:20:57.229747",
     "status": "completed"
    },
    "tags": []
   },
   "source": [
    "Using those two, we can write our training loop. We'll also store the training history:"
   ]
  },
  {
   "cell_type": "code",
   "execution_count": 29,
   "id": "1dfb9956",
   "metadata": {
    "execution": {
     "iopub.execute_input": "2023-03-14T00:20:57.279721Z",
     "iopub.status.busy": "2023-03-14T00:20:57.279407Z"
    },
    "id": "1zhHoFNsxufs",
    "outputId": "a7fc9d15-e8f3-4c2f-9a17-082bdea808dc",
    "papermill": {
     "duration": null,
     "end_time": null,
     "exception": false,
     "start_time": "2023-03-14T00:20:57.262280",
     "status": "running"
    },
    "tags": []
   },
   "outputs": [
    {
     "name": "stdout",
     "output_type": "stream",
     "text": [
      "Epoch 1/10\n",
      "----------\n"
     ]
    },
    {
     "name": "stdout",
     "output_type": "stream",
     "text": [
      "Train loss 0.23047701872479986 accuracy 0.9231333333333334\n"
     ]
    },
    {
     "name": "stdout",
     "output_type": "stream",
     "text": [
      "Val   loss 0.18887595692056286 accuracy 0.9504\n",
      "\n"
     ]
    },
    {
     "name": "stdout",
     "output_type": "stream",
     "text": [
      "Epoch 2/10\n",
      "----------\n"
     ]
    },
    {
     "name": "stdout",
     "output_type": "stream",
     "text": [
      "Train loss 0.13814949937604454 accuracy 0.9638444444444445\n"
     ]
    },
    {
     "name": "stdout",
     "output_type": "stream",
     "text": [
      "Val   loss 0.2756721719188889 accuracy 0.9476\n",
      "\n",
      "Epoch 3/10\n",
      "----------\n"
     ]
    },
    {
     "name": "stdout",
     "output_type": "stream",
     "text": [
      "Train loss 0.09472482245512455 accuracy 0.9787333333333333\n"
     ]
    },
    {
     "name": "stdout",
     "output_type": "stream",
     "text": [
      "Val   loss 0.30863506866027274 accuracy 0.9444\n",
      "\n",
      "Epoch 4/10\n",
      "----------\n"
     ]
    },
    {
     "name": "stdout",
     "output_type": "stream",
     "text": [
      "Train loss 0.06519209970524777 accuracy 0.9867111111111112\n"
     ]
    },
    {
     "name": "stdout",
     "output_type": "stream",
     "text": [
      "Val   loss 0.33318200094178974 accuracy 0.9472\n",
      "\n",
      "Epoch 5/10\n",
      "----------\n"
     ]
    },
    {
     "name": "stdout",
     "output_type": "stream",
     "text": [
      "Train loss 0.04498460646606588 accuracy 0.9915333333333334\n"
     ]
    },
    {
     "name": "stdout",
     "output_type": "stream",
     "text": [
      "Val   loss 0.36783737778829734 accuracy 0.9436\n",
      "\n",
      "Epoch 6/10\n",
      "----------\n"
     ]
    },
    {
     "name": "stdout",
     "output_type": "stream",
     "text": [
      "Train loss 0.03010537412442688 accuracy 0.9946444444444444\n"
     ]
    },
    {
     "name": "stdout",
     "output_type": "stream",
     "text": [
      "Val   loss 0.36241246989181497 accuracy 0.9480000000000001\n",
      "\n",
      "Epoch 7/10\n",
      "----------\n"
     ]
    },
    {
     "name": "stdout",
     "output_type": "stream",
     "text": [
      "Train loss 0.02401002266767605 accuracy 0.9958444444444445\n"
     ]
    },
    {
     "name": "stdout",
     "output_type": "stream",
     "text": [
      "Val   loss 0.3693301421351016 accuracy 0.9480000000000001\n",
      "\n",
      "Epoch 8/10\n",
      "----------\n"
     ]
    }
   ],
   "source": [
    "%%time\n",
    "\n",
    "history = defaultdict(list)\n",
    "best_accuracy = 0\n",
    "\n",
    "for epoch in range(EPOCHS):\n",
    "\n",
    "  print(f'Epoch {epoch + 1}/{EPOCHS}')\n",
    "  print('-' * 10)\n",
    "\n",
    "  train_acc, train_loss = train_epoch(\n",
    "    model,\n",
    "    train_data_loader,    \n",
    "    loss_fn, \n",
    "    optimizer, \n",
    "    device, \n",
    "    scheduler, \n",
    "    len(df_train)\n",
    "  )\n",
    "\n",
    "  print(f'Train loss {train_loss} accuracy {train_acc}')\n",
    "\n",
    "  val_acc, val_loss = eval_model(\n",
    "    model,\n",
    "    val_data_loader,\n",
    "    loss_fn, \n",
    "    device, \n",
    "    len(df_val)\n",
    "  )\n",
    "\n",
    "  print(f'Val   loss {val_loss} accuracy {val_acc}')\n",
    "  print()\n",
    "\n",
    "  history['train_acc'].append(train_acc)\n",
    "  history['train_loss'].append(train_loss)\n",
    "  history['val_acc'].append(val_acc)\n",
    "  history['val_loss'].append(val_loss)\n",
    "\n",
    "  if val_acc > best_accuracy:\n",
    "    torch.save(model.state_dict(),'best_model_state.bin')\n",
    "    best_accuracy = val_acc"
   ]
  },
  {
   "cell_type": "code",
   "execution_count": null,
   "id": "81f8606b",
   "metadata": {
    "papermill": {
     "duration": null,
     "end_time": null,
     "exception": null,
     "start_time": null,
     "status": "pending"
    },
    "tags": []
   },
   "outputs": [],
   "source": []
  },
  {
   "cell_type": "code",
   "execution_count": null,
   "id": "0208a2e6",
   "metadata": {
    "execution": {
     "iopub.execute_input": "2023-03-13T23:31:03.370564Z",
     "iopub.status.busy": "2023-03-13T23:31:03.370125Z",
     "iopub.status.idle": "2023-03-13T23:32:22.687388Z",
     "shell.execute_reply": "2023-03-13T23:32:22.686220Z",
     "shell.execute_reply.started": "2023-03-13T23:31:03.370528Z"
    },
    "papermill": {
     "duration": null,
     "end_time": null,
     "exception": null,
     "start_time": null,
     "status": "pending"
    },
    "tags": []
   },
   "outputs": [],
   "source": [
    "test_acc, _ = eval_model(\n",
    "  model,\n",
    "  test_data_loader,\n",
    "  loss_fn,\n",
    "  device,\n",
    "  len(df_test)\n",
    ")\n",
    "\n",
    "test_acc.item()"
   ]
  },
  {
   "cell_type": "markdown",
   "id": "a7491213",
   "metadata": {
    "papermill": {
     "duration": null,
     "end_time": null,
     "exception": null,
     "start_time": null,
     "status": "pending"
    },
    "tags": []
   },
   "source": [
    "#### ODD WITH MAX SOFTMAX"
   ]
  },
  {
   "cell_type": "code",
   "execution_count": null,
   "id": "067a445e",
   "metadata": {
    "execution": {
     "iopub.execute_input": "2023-03-13T23:21:48.069828Z",
     "iopub.status.busy": "2023-03-13T23:21:48.069122Z",
     "iopub.status.idle": "2023-03-13T23:21:48.183119Z",
     "shell.execute_reply": "2023-03-13T23:21:48.181789Z",
     "shell.execute_reply.started": "2023-03-13T23:21:48.069792Z"
    },
    "papermill": {
     "duration": null,
     "end_time": null,
     "exception": null,
     "start_time": null,
     "status": "pending"
    },
    "tags": []
   },
   "outputs": [],
   "source": [
    "clean_adversarial_sample=pd.read_csv('/kaggle/input/clean-attack-imbb-fool/0')[['text','result_type']]"
   ]
  },
  {
   "cell_type": "code",
   "execution_count": null,
   "id": "04eb0961",
   "metadata": {
    "execution": {
     "iopub.execute_input": "2023-03-13T23:21:54.062714Z",
     "iopub.status.busy": "2023-03-13T23:21:54.062004Z",
     "iopub.status.idle": "2023-03-13T23:21:54.080317Z",
     "shell.execute_reply": "2023-03-13T23:21:54.078941Z",
     "shell.execute_reply.started": "2023-03-13T23:21:54.062677Z"
    },
    "papermill": {
     "duration": null,
     "end_time": null,
     "exception": null,
     "start_time": null,
     "status": "pending"
    },
    "tags": []
   },
   "outputs": [],
   "source": [
    "clean_adversarial_sample"
   ]
  },
  {
   "cell_type": "code",
   "execution_count": null,
   "id": "d605d37a",
   "metadata": {
    "execution": {
     "iopub.execute_input": "2023-03-13T23:47:50.833825Z",
     "iopub.status.busy": "2023-03-13T23:47:50.832852Z",
     "iopub.status.idle": "2023-03-13T23:47:50.841286Z",
     "shell.execute_reply": "2023-03-13T23:47:50.840244Z",
     "shell.execute_reply.started": "2023-03-13T23:47:50.833767Z"
    },
    "id": "cCm0EFPDZcnj",
    "papermill": {
     "duration": null,
     "end_time": null,
     "exception": null,
     "start_time": null,
     "status": "pending"
    },
    "tags": []
   },
   "outputs": [],
   "source": [
    "def create_attack_data_loader(df, tokenizer, max_len, batch_size):\n",
    "  ds = GPReviewDataset(\n",
    "    reviews=df.text.to_numpy(),\n",
    "    tokenizer=tokenizer,\n",
    "    targets=df.result_type.to_numpy(),\n",
    "    max_len=max_len\n",
    "  )\n",
    "\n",
    "  return DataLoader(\n",
    "    ds,\n",
    "    batch_size=batch_size,\n",
    "  )\n",
    "attack_data_loader = create_attack_data_loader(clean_adversarial_sample, tokenizer, MAX_LEN, BATCH_SIZE)"
   ]
  },
  {
   "cell_type": "markdown",
   "id": "bd97f57e",
   "metadata": {
    "id": "4r8-5zWsiVur",
    "papermill": {
     "duration": null,
     "end_time": null,
     "exception": null,
     "start_time": null,
     "status": "pending"
    },
    "tags": []
   },
   "source": [
    "Note that we're storing the state of the best model, indicated by the highest validation accuracy."
   ]
  },
  {
   "cell_type": "markdown",
   "id": "5bc4dca3",
   "metadata": {
    "id": "wLQf52c7fbzr",
    "papermill": {
     "duration": null,
     "end_time": null,
     "exception": null,
     "start_time": null,
     "status": "pending"
    },
    "tags": []
   },
   "source": [
    "Whoo, this took some time! We can look at the training vs validation accuracy:"
   ]
  },
  {
   "cell_type": "code",
   "execution_count": null,
   "id": "73195628",
   "metadata": {
    "execution": {
     "iopub.execute_input": "2023-03-13T23:56:46.435569Z",
     "iopub.status.busy": "2023-03-13T23:56:46.435194Z",
     "iopub.status.idle": "2023-03-13T23:56:46.443901Z",
     "shell.execute_reply": "2023-03-13T23:56:46.442878Z",
     "shell.execute_reply.started": "2023-03-13T23:56:46.435536Z"
    },
    "id": "-FWG7kBm372V",
    "papermill": {
     "duration": null,
     "end_time": null,
     "exception": null,
     "start_time": null,
     "status": "pending"
    },
    "tags": []
   },
   "outputs": [],
   "source": [
    "def get_predictions(model, data_loader):\n",
    "  model = model.eval()\n",
    "  \n",
    "  review_texts = []\n",
    "  predictions = []\n",
    "  prediction_probs = []\n",
    "  real_values = []\n",
    "\n",
    "  with torch.no_grad():\n",
    "    for d in data_loader:\n",
    "\n",
    "      texts = d[\"review_text\"]\n",
    "      input_ids = d[\"input_ids\"].to(device)\n",
    "      attention_mask = d[\"attention_mask\"].to(device)\n",
    "      targets = d[\"targets\"].to(device)\n",
    "\n",
    "      outputs = model(\n",
    "        input_ids=input_ids,\n",
    "        attention_mask=attention_mask\n",
    "      )\n",
    "      _, preds = torch.max(outputs, dim=1)\n",
    "\n",
    "      probs = F.softmax(outputs, dim=1)\n",
    "\n",
    "      review_texts.extend(texts)\n",
    "      predictions.extend(preds)\n",
    "      prediction_probs.extend(probs)\n",
    "      real_values.extend(targets)\n",
    "\n",
    "  predictions = torch.stack(predictions).cpu()\n",
    "  prediction_probs = torch.stack(prediction_probs).cpu()\n",
    "  real_values = torch.stack(real_values).cpu()\n",
    "  return review_texts, predictions, prediction_probs, real_values"
   ]
  },
  {
   "cell_type": "markdown",
   "id": "42214c12",
   "metadata": {
    "id": "ZsHqkLAuf8pv",
    "papermill": {
     "duration": null,
     "end_time": null,
     "exception": null,
     "start_time": null,
     "status": "pending"
    },
    "tags": []
   },
   "source": []
  },
  {
   "cell_type": "code",
   "execution_count": null,
   "id": "dbedff5a",
   "metadata": {
    "execution": {
     "iopub.execute_input": "2023-03-13T23:56:56.292635Z",
     "iopub.status.busy": "2023-03-13T23:56:56.291937Z",
     "iopub.status.idle": "2023-03-13T23:59:06.729127Z",
     "shell.execute_reply": "2023-03-13T23:59:06.728087Z",
     "shell.execute_reply.started": "2023-03-13T23:56:56.292596Z"
    },
    "id": "zoGUH8VZ-pPQ",
    "papermill": {
     "duration": null,
     "end_time": null,
     "exception": null,
     "start_time": null,
     "status": "pending"
    },
    "tags": []
   },
   "outputs": [],
   "source": [
    "y_review_texts, y_pred, y_pred_probs,attack_label_real = get_predictions(\n",
    "  model,\n",
    "  attack_data_loader\n",
    ")"
   ]
  },
  {
   "cell_type": "markdown",
   "id": "f46fed43",
   "metadata": {
    "papermill": {
     "duration": null,
     "end_time": null,
     "exception": null,
     "start_time": null,
     "status": "pending"
    },
    "tags": []
   },
   "source": [
    "Get the maximun for odd"
   ]
  },
  {
   "cell_type": "code",
   "execution_count": null,
   "id": "b352931b",
   "metadata": {
    "execution": {
     "iopub.execute_input": "2023-03-14T00:01:46.416192Z",
     "iopub.status.busy": "2023-03-14T00:01:46.415788Z",
     "iopub.status.idle": "2023-03-14T00:01:46.424913Z",
     "shell.execute_reply": "2023-03-14T00:01:46.423509Z",
     "shell.execute_reply.started": "2023-03-14T00:01:46.416153Z"
    },
    "papermill": {
     "duration": null,
     "end_time": null,
     "exception": null,
     "start_time": null,
     "status": "pending"
    },
    "tags": []
   },
   "outputs": [],
   "source": [
    " prob=np.amax(y_pred_probs.numpy(), axis=1)\n",
    " prob"
   ]
  },
  {
   "cell_type": "code",
   "execution_count": null,
   "id": "9e12fc0a",
   "metadata": {
    "execution": {
     "iopub.execute_input": "2023-03-14T00:01:57.419824Z",
     "iopub.status.busy": "2023-03-14T00:01:57.418650Z",
     "iopub.status.idle": "2023-03-14T00:01:57.427647Z",
     "shell.execute_reply": "2023-03-14T00:01:57.426454Z",
     "shell.execute_reply.started": "2023-03-14T00:01:57.419773Z"
    },
    "papermill": {
     "duration": null,
     "end_time": null,
     "exception": null,
     "start_time": null,
     "status": "pending"
    },
    "tags": []
   },
   "outputs": [],
   "source": [
    "attack_label_real"
   ]
  },
  {
   "cell_type": "raw",
   "id": "a35431b8",
   "metadata": {
    "papermill": {
     "duration": null,
     "end_time": null,
     "exception": null,
     "start_time": null,
     "status": "pending"
    },
    "tags": []
   },
   "source": []
  },
  {
   "cell_type": "code",
   "execution_count": null,
   "id": "6a4b61ad",
   "metadata": {
    "execution": {
     "iopub.execute_input": "2023-03-14T00:04:57.642431Z",
     "iopub.status.busy": "2023-03-14T00:04:57.642049Z",
     "iopub.status.idle": "2023-03-14T00:04:57.655033Z",
     "shell.execute_reply": "2023-03-14T00:04:57.653773Z",
     "shell.execute_reply.started": "2023-03-14T00:04:57.642399Z"
    },
    "papermill": {
     "duration": null,
     "end_time": null,
     "exception": null,
     "start_time": null,
     "status": "pending"
    },
    "tags": []
   },
   "outputs": [],
   "source": [
    "from sklearn import metrics\n",
    "fpr, tpr,thresholds = metrics.roc_curve(attack_label_real,prob, pos_label=0)\n",
    "print('AUROC:',metrics.auc(fpr, tpr)"
   ]
  },
  {
   "cell_type": "code",
   "execution_count": null,
   "id": "e238de32",
   "metadata": {
    "execution": {
     "iopub.execute_input": "2023-03-14T00:12:32.272995Z",
     "iopub.status.busy": "2023-03-14T00:12:32.271930Z",
     "iopub.status.idle": "2023-03-14T00:12:32.282621Z",
     "shell.execute_reply": "2023-03-14T00:12:32.281473Z",
     "shell.execute_reply.started": "2023-03-14T00:12:32.272953Z"
    },
    "papermill": {
     "duration": null,
     "end_time": null,
     "exception": null,
     "start_time": null,
     "status": "pending"
    },
    "tags": []
   },
   "outputs": [],
   "source": [
    "from sklearn.metrics import average_precision_score\n",
    "\n",
    "print('AUPR:',average_precision_score(attack_label_real,prob,pos_label=0))"
   ]
  },
  {
   "cell_type": "code",
   "execution_count": null,
   "id": "2cda994d",
   "metadata": {
    "papermill": {
     "duration": null,
     "end_time": null,
     "exception": null,
     "start_time": null,
     "status": "pending"
    },
    "tags": []
   },
   "outputs": [],
   "source": []
  }
 ],
 "metadata": {
  "kernelspec": {
   "display_name": "Python 3",
   "language": "python",
   "name": "python3"
  },
  "language_info": {
   "codemirror_mode": {
    "name": "ipython",
    "version": 3
   },
   "file_extension": ".py",
   "mimetype": "text/x-python",
   "name": "python",
   "nbconvert_exporter": "python",
   "pygments_lexer": "ipython3",
   "version": "3.6.4"
  },
  "papermill": {
   "default_parameters": {},
   "duration": null,
   "end_time": null,
   "environment_variables": {},
   "exception": null,
   "input_path": "__notebook__.ipynb",
   "output_path": "__notebook__.ipynb",
   "parameters": {},
   "start_time": "2023-03-14T00:18:58.245800",
   "version": "2.4.0"
  }
 },
 "nbformat": 4,
 "nbformat_minor": 5
}